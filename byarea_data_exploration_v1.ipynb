{
 "cells": [
  {
   "cell_type": "code",
   "execution_count": 1,
   "id": "13f7abf1",
   "metadata": {},
   "outputs": [],
   "source": [
    "# Import dependencies\n",
    "import pandas as pd\n",
    "import numpy as np\n",
    "import matplotlib.pyplot as plt\n",
    "from matplotlib import style\n",
    "import plotly.express as px\n",
    "import seaborn as sns"
   ]
  },
  {
   "cell_type": "code",
   "execution_count": 2,
   "id": "f6d2a0ee",
   "metadata": {},
   "outputs": [
    {
     "data": {
      "text/html": [
       "<div>\n",
       "<style scoped>\n",
       "    .dataframe tbody tr th:only-of-type {\n",
       "        vertical-align: middle;\n",
       "    }\n",
       "\n",
       "    .dataframe tbody tr th {\n",
       "        vertical-align: top;\n",
       "    }\n",
       "\n",
       "    .dataframe thead th {\n",
       "        text-align: right;\n",
       "    }\n",
       "</style>\n",
       "<table border=\"1\" class=\"dataframe\">\n",
       "  <thead>\n",
       "    <tr style=\"text-align: right;\">\n",
       "      <th></th>\n",
       "      <th>AREA</th>\n",
       "      <th>AGE_ADJUSTED_CI_LOWER</th>\n",
       "      <th>AGE_ADJUSTED_CI_UPPER</th>\n",
       "      <th>AGE_ADJUSTED_RATE</th>\n",
       "      <th>EVENT_TYPE</th>\n",
       "      <th>POPULATION</th>\n",
       "      <th>RACE</th>\n",
       "      <th>SEX</th>\n",
       "      <th>SITE</th>\n",
       "      <th>YEAR</th>\n",
       "      <th>CRUDE_CI_LOWER</th>\n",
       "      <th>CRUDE_CI_UPPER</th>\n",
       "      <th>CRUDE_RATE</th>\n",
       "    </tr>\n",
       "  </thead>\n",
       "  <tbody>\n",
       "    <tr>\n",
       "      <th>0</th>\n",
       "      <td>Alabama</td>\n",
       "      <td>359.7</td>\n",
       "      <td>374.7</td>\n",
       "      <td>367.2</td>\n",
       "      <td>Incidence</td>\n",
       "      <td>2293259</td>\n",
       "      <td>All Races</td>\n",
       "      <td>Female</td>\n",
       "      <td>All Cancer Sites Combined</td>\n",
       "      <td>1999</td>\n",
       "      <td>397.3</td>\n",
       "      <td>413.8</td>\n",
       "      <td>405.5</td>\n",
       "    </tr>\n",
       "    <tr>\n",
       "      <th>1</th>\n",
       "      <td>Alabama</td>\n",
       "      <td>160.6</td>\n",
       "      <td>170.5</td>\n",
       "      <td>165.5</td>\n",
       "      <td>Mortality</td>\n",
       "      <td>2293259</td>\n",
       "      <td>All Races</td>\n",
       "      <td>Female</td>\n",
       "      <td>All Cancer Sites Combined</td>\n",
       "      <td>1999</td>\n",
       "      <td>184.8</td>\n",
       "      <td>196.1</td>\n",
       "      <td>190.4</td>\n",
       "    </tr>\n",
       "    <tr>\n",
       "      <th>2</th>\n",
       "      <td>Alabama</td>\n",
       "      <td>362.1</td>\n",
       "      <td>377.1</td>\n",
       "      <td>369.5</td>\n",
       "      <td>Incidence</td>\n",
       "      <td>2302835</td>\n",
       "      <td>All Races</td>\n",
       "      <td>Female</td>\n",
       "      <td>All Cancer Sites Combined</td>\n",
       "      <td>2000</td>\n",
       "      <td>403.2</td>\n",
       "      <td>419.8</td>\n",
       "      <td>411.4</td>\n",
       "    </tr>\n",
       "    <tr>\n",
       "      <th>3</th>\n",
       "      <td>Alabama</td>\n",
       "      <td>160.8</td>\n",
       "      <td>170.6</td>\n",
       "      <td>165.7</td>\n",
       "      <td>Mortality</td>\n",
       "      <td>2302835</td>\n",
       "      <td>All Races</td>\n",
       "      <td>Female</td>\n",
       "      <td>All Cancer Sites Combined</td>\n",
       "      <td>2000</td>\n",
       "      <td>186.5</td>\n",
       "      <td>197.9</td>\n",
       "      <td>192.2</td>\n",
       "    </tr>\n",
       "    <tr>\n",
       "      <th>4</th>\n",
       "      <td>Alabama</td>\n",
       "      <td>377.7</td>\n",
       "      <td>392.9</td>\n",
       "      <td>385.2</td>\n",
       "      <td>Incidence</td>\n",
       "      <td>2309496</td>\n",
       "      <td>All Races</td>\n",
       "      <td>Female</td>\n",
       "      <td>All Cancer Sites Combined</td>\n",
       "      <td>2001</td>\n",
       "      <td>423.3</td>\n",
       "      <td>440.3</td>\n",
       "      <td>431.7</td>\n",
       "    </tr>\n",
       "  </tbody>\n",
       "</table>\n",
       "</div>"
      ],
      "text/plain": [
       "      AREA  AGE_ADJUSTED_CI_LOWER  AGE_ADJUSTED_CI_UPPER  AGE_ADJUSTED_RATE  \\\n",
       "0  Alabama                  359.7                  374.7              367.2   \n",
       "1  Alabama                  160.6                  170.5              165.5   \n",
       "2  Alabama                  362.1                  377.1              369.5   \n",
       "3  Alabama                  160.8                  170.6              165.7   \n",
       "4  Alabama                  377.7                  392.9              385.2   \n",
       "\n",
       "  EVENT_TYPE  POPULATION       RACE     SEX                       SITE  YEAR  \\\n",
       "0  Incidence     2293259  All Races  Female  All Cancer Sites Combined  1999   \n",
       "1  Mortality     2293259  All Races  Female  All Cancer Sites Combined  1999   \n",
       "2  Incidence     2302835  All Races  Female  All Cancer Sites Combined  2000   \n",
       "3  Mortality     2302835  All Races  Female  All Cancer Sites Combined  2000   \n",
       "4  Incidence     2309496  All Races  Female  All Cancer Sites Combined  2001   \n",
       "\n",
       "   CRUDE_CI_LOWER  CRUDE_CI_UPPER  CRUDE_RATE  \n",
       "0           397.3           413.8       405.5  \n",
       "1           184.8           196.1       190.4  \n",
       "2           403.2           419.8       411.4  \n",
       "3           186.5           197.9       192.2  \n",
       "4           423.3           440.3       431.7  "
      ]
     },
     "execution_count": 2,
     "metadata": {},
     "output_type": "execute_result"
    }
   ],
   "source": [
    "# Load cleaned BYAREA data and create a DataFrame for the data\n",
    "cleaned_byarea_df = pd.read_csv('cleaned_byarea_df.csv')\n",
    "cleaned_byarea_df.head()"
   ]
  },
  {
   "cell_type": "code",
   "execution_count": 3,
   "id": "3f01c448",
   "metadata": {},
   "outputs": [
    {
     "data": {
      "text/plain": [
       "(949308, 13)"
      ]
     },
     "execution_count": 3,
     "metadata": {},
     "output_type": "execute_result"
    }
   ],
   "source": [
    "# Check shape of DataFrame\n",
    "cleaned_byarea_df.shape"
   ]
  },
  {
   "cell_type": "code",
   "execution_count": 4,
   "id": "c1831584",
   "metadata": {},
   "outputs": [
    {
     "name": "stdout",
     "output_type": "stream",
     "text": [
      "<class 'pandas.core.frame.DataFrame'>\n",
      "RangeIndex: 949308 entries, 0 to 949307\n",
      "Data columns (total 13 columns):\n",
      " #   Column                 Non-Null Count   Dtype  \n",
      "---  ------                 --------------   -----  \n",
      " 0   AREA                   949308 non-null  object \n",
      " 1   AGE_ADJUSTED_CI_LOWER  949308 non-null  float64\n",
      " 2   AGE_ADJUSTED_CI_UPPER  949308 non-null  float64\n",
      " 3   AGE_ADJUSTED_RATE      949308 non-null  float64\n",
      " 4   EVENT_TYPE             949308 non-null  object \n",
      " 5   POPULATION             949308 non-null  int64  \n",
      " 6   RACE                   949308 non-null  object \n",
      " 7   SEX                    949308 non-null  object \n",
      " 8   SITE                   949308 non-null  object \n",
      " 9   YEAR                   949308 non-null  int64  \n",
      " 10  CRUDE_CI_LOWER         949308 non-null  float64\n",
      " 11  CRUDE_CI_UPPER         949308 non-null  float64\n",
      " 12  CRUDE_RATE             949308 non-null  float64\n",
      "dtypes: float64(6), int64(2), object(5)\n",
      "memory usage: 94.2+ MB\n"
     ]
    }
   ],
   "source": [
    "# Check for info DataFrame\n",
    "cleaned_byarea_df.info()"
   ]
  },
  {
   "cell_type": "code",
   "execution_count": 5,
   "id": "a0486790",
   "metadata": {},
   "outputs": [
    {
     "data": {
      "text/plain": [
       "AREA                     0\n",
       "AGE_ADJUSTED_CI_LOWER    0\n",
       "AGE_ADJUSTED_CI_UPPER    0\n",
       "AGE_ADJUSTED_RATE        0\n",
       "EVENT_TYPE               0\n",
       "POPULATION               0\n",
       "RACE                     0\n",
       "SEX                      0\n",
       "SITE                     0\n",
       "YEAR                     0\n",
       "CRUDE_CI_LOWER           0\n",
       "CRUDE_CI_UPPER           0\n",
       "CRUDE_RATE               0\n",
       "dtype: int64"
      ]
     },
     "execution_count": 5,
     "metadata": {},
     "output_type": "execute_result"
    }
   ],
   "source": [
    "# Check for any null values in DataFrame\n",
    "cleaned_byarea_df.isnull().sum()"
   ]
  },
  {
   "cell_type": "code",
   "execution_count": 6,
   "id": "e310e6f3",
   "metadata": {},
   "outputs": [
    {
     "data": {
      "text/plain": [
       "AREA          52\n",
       "EVENT_TYPE     2\n",
       "RACE           6\n",
       "SEX            3\n",
       "SITE          27\n",
       "dtype: int64"
      ]
     },
     "execution_count": 6,
     "metadata": {},
     "output_type": "execute_result"
    }
   ],
   "source": [
    "# Generate our categorical variable list\n",
    "cleaned_byarea_df_cat = cleaned_byarea_df.dtypes[cleaned_byarea_df.dtypes == \"object\"].index.tolist()\n",
    "\n",
    "\n",
    "# Check the number of unique values in each column\n",
    "cleaned_byarea_df[cleaned_byarea_df_cat].nunique()"
   ]
  },
  {
   "cell_type": "code",
   "execution_count": 7,
   "id": "daf07ca9",
   "metadata": {},
   "outputs": [
    {
     "name": "stdout",
     "output_type": "stream",
     "text": [
      "['Alabama' 'Alaska' 'Arizona' 'Arkansas' 'California' 'Colorado'\n",
      " 'Connecticut' 'Delaware' 'District of Columbia' 'Florida' 'Georgia'\n",
      " 'Hawaii' 'Idaho' 'Illinois' 'Indiana' 'Iowa' 'Kansas' 'Kentucky'\n",
      " 'Louisiana' 'Maine' 'Maryland' 'Massachusetts' 'Michigan' 'Minnesota'\n",
      " 'Mississippi' 'Missouri' 'Montana' 'Nebraska' 'Nevada' 'New Hampshire'\n",
      " 'New Jersey' 'New Mexico' 'New York' 'North Carolina' 'North Dakota'\n",
      " 'Ohio' 'Oklahoma' 'Oregon' 'Pennsylvania' 'Rhode Island' 'South Carolina'\n",
      " 'South Dakota' 'Tennessee' 'Texas' 'United States (comparable to ICDO2)'\n",
      " 'Utah' 'Vermont' 'Virginia' 'Washington' 'West Virginia' 'Wisconsin'\n",
      " 'Wyoming']\n",
      "['Incidence' 'Mortality']\n",
      "['All Races' 'American Indian/Alaska Native' 'Asian/Pacific Islander'\n",
      " 'Black' 'Hispanic' 'White']\n",
      "['Female' 'Male' 'Male and Female']\n",
      "['All Cancer Sites Combined' 'Brain and Other Nervous System' 'Cervix'\n",
      " 'Colon and Rectum' 'Corpus and Uterus, NOS' 'Esophagus' 'Female Breast'\n",
      " 'Female Breast, <i>in situ</i>' 'Hodgkin Lymphoma' 'Kaposi Sarcoma'\n",
      " 'Kidney and Renal Pelvis' 'Larynx' 'Leukemias'\n",
      " 'Liver and Intrahepatic Bile Duct' 'Lung and Bronchus'\n",
      " 'Melanomas of the Skin' 'Mesothelioma' 'Myeloma' 'NonHodgkin Lymphoma'\n",
      " 'Oral Cavity and Pharynx' 'Ovary' 'Pancreas' 'Stomach' 'Thyroid'\n",
      " 'Urinary Bladder' 'Prostate' 'Testis']\n",
      "[    1999     2000     2001     2002     2003     2004     2005     2006\n",
      "     2007     2008     2009     2010     2011     2012     2013     2014\n",
      "     2015 20152019     2016     2017     2018     2019]\n"
     ]
    }
   ],
   "source": [
    "# Check unique values of categories in DataFrame\n",
    "print(cleaned_byarea_df['AREA'].unique())\n",
    "print(cleaned_byarea_df['EVENT_TYPE'].unique())\n",
    "print(cleaned_byarea_df['RACE'].unique())\n",
    "print(cleaned_byarea_df['SEX'].unique())\n",
    "print(cleaned_byarea_df['SITE'].unique())\n",
    "print(cleaned_byarea_df['YEAR'].unique())"
   ]
  },
  {
   "cell_type": "code",
   "execution_count": 8,
   "id": "df974153",
   "metadata": {},
   "outputs": [
    {
     "data": {
      "text/html": [
       "<div>\n",
       "<style scoped>\n",
       "    .dataframe tbody tr th:only-of-type {\n",
       "        vertical-align: middle;\n",
       "    }\n",
       "\n",
       "    .dataframe tbody tr th {\n",
       "        vertical-align: top;\n",
       "    }\n",
       "\n",
       "    .dataframe thead th {\n",
       "        text-align: right;\n",
       "    }\n",
       "</style>\n",
       "<table border=\"1\" class=\"dataframe\">\n",
       "  <thead>\n",
       "    <tr style=\"text-align: right;\">\n",
       "      <th></th>\n",
       "      <th>AGE_ADJUSTED_CI_LOWER</th>\n",
       "      <th>AGE_ADJUSTED_CI_UPPER</th>\n",
       "      <th>AGE_ADJUSTED_RATE</th>\n",
       "      <th>POPULATION</th>\n",
       "      <th>YEAR</th>\n",
       "      <th>CRUDE_CI_LOWER</th>\n",
       "      <th>CRUDE_CI_UPPER</th>\n",
       "      <th>CRUDE_RATE</th>\n",
       "    </tr>\n",
       "  </thead>\n",
       "  <tbody>\n",
       "    <tr>\n",
       "      <th>count</th>\n",
       "      <td>949308.000000</td>\n",
       "      <td>949308.000000</td>\n",
       "      <td>949308.000000</td>\n",
       "      <td>9.493080e+05</td>\n",
       "      <td>9.493080e+05</td>\n",
       "      <td>949308.000000</td>\n",
       "      <td>949308.000000</td>\n",
       "      <td>949308.000000</td>\n",
       "    </tr>\n",
       "    <tr>\n",
       "      <th>mean</th>\n",
       "      <td>17.767297</td>\n",
       "      <td>52.965639</td>\n",
       "      <td>23.320975</td>\n",
       "      <td>1.699207e+06</td>\n",
       "      <td>9.123496e+05</td>\n",
       "      <td>15.956262</td>\n",
       "      <td>34.295784</td>\n",
       "      <td>19.260361</td>\n",
       "    </tr>\n",
       "    <tr>\n",
       "      <th>std</th>\n",
       "      <td>59.935595</td>\n",
       "      <td>113.517577</td>\n",
       "      <td>67.282969</td>\n",
       "      <td>5.759383e+06</td>\n",
       "      <td>4.185053e+06</td>\n",
       "      <td>56.836111</td>\n",
       "      <td>68.848379</td>\n",
       "      <td>59.713485</td>\n",
       "    </tr>\n",
       "    <tr>\n",
       "      <th>min</th>\n",
       "      <td>0.000000</td>\n",
       "      <td>0.000000</td>\n",
       "      <td>0.000000</td>\n",
       "      <td>1.063000e+03</td>\n",
       "      <td>1.999000e+03</td>\n",
       "      <td>0.000000</td>\n",
       "      <td>0.000000</td>\n",
       "      <td>0.000000</td>\n",
       "    </tr>\n",
       "    <tr>\n",
       "      <th>25%</th>\n",
       "      <td>0.000000</td>\n",
       "      <td>6.700000</td>\n",
       "      <td>0.400000</td>\n",
       "      <td>4.066700e+04</td>\n",
       "      <td>2.004000e+03</td>\n",
       "      <td>0.000000</td>\n",
       "      <td>5.400000</td>\n",
       "      <td>0.400000</td>\n",
       "    </tr>\n",
       "    <tr>\n",
       "      <th>50%</th>\n",
       "      <td>2.100000</td>\n",
       "      <td>16.700000</td>\n",
       "      <td>5.000000</td>\n",
       "      <td>2.781340e+05</td>\n",
       "      <td>2.010000e+03</td>\n",
       "      <td>1.700000</td>\n",
       "      <td>12.200000</td>\n",
       "      <td>4.100000</td>\n",
       "    </tr>\n",
       "    <tr>\n",
       "      <th>75%</th>\n",
       "      <td>8.600000</td>\n",
       "      <td>45.500000</td>\n",
       "      <td>14.500000</td>\n",
       "      <td>1.525438e+06</td>\n",
       "      <td>2.015000e+03</td>\n",
       "      <td>7.700000</td>\n",
       "      <td>30.000000</td>\n",
       "      <td>11.700000</td>\n",
       "    </tr>\n",
       "    <tr>\n",
       "      <th>max</th>\n",
       "      <td>3979.600000</td>\n",
       "      <td>6890.400000</td>\n",
       "      <td>4529.600000</td>\n",
       "      <td>1.609219e+09</td>\n",
       "      <td>2.015202e+07</td>\n",
       "      <td>907.200000</td>\n",
       "      <td>1254.000000</td>\n",
       "      <td>996.400000</td>\n",
       "    </tr>\n",
       "  </tbody>\n",
       "</table>\n",
       "</div>"
      ],
      "text/plain": [
       "       AGE_ADJUSTED_CI_LOWER  AGE_ADJUSTED_CI_UPPER  AGE_ADJUSTED_RATE  \\\n",
       "count          949308.000000          949308.000000      949308.000000   \n",
       "mean               17.767297              52.965639          23.320975   \n",
       "std                59.935595             113.517577          67.282969   \n",
       "min                 0.000000               0.000000           0.000000   \n",
       "25%                 0.000000               6.700000           0.400000   \n",
       "50%                 2.100000              16.700000           5.000000   \n",
       "75%                 8.600000              45.500000          14.500000   \n",
       "max              3979.600000            6890.400000        4529.600000   \n",
       "\n",
       "         POPULATION          YEAR  CRUDE_CI_LOWER  CRUDE_CI_UPPER  \\\n",
       "count  9.493080e+05  9.493080e+05   949308.000000   949308.000000   \n",
       "mean   1.699207e+06  9.123496e+05       15.956262       34.295784   \n",
       "std    5.759383e+06  4.185053e+06       56.836111       68.848379   \n",
       "min    1.063000e+03  1.999000e+03        0.000000        0.000000   \n",
       "25%    4.066700e+04  2.004000e+03        0.000000        5.400000   \n",
       "50%    2.781340e+05  2.010000e+03        1.700000       12.200000   \n",
       "75%    1.525438e+06  2.015000e+03        7.700000       30.000000   \n",
       "max    1.609219e+09  2.015202e+07      907.200000     1254.000000   \n",
       "\n",
       "          CRUDE_RATE  \n",
       "count  949308.000000  \n",
       "mean       19.260361  \n",
       "std        59.713485  \n",
       "min         0.000000  \n",
       "25%         0.400000  \n",
       "50%         4.100000  \n",
       "75%        11.700000  \n",
       "max       996.400000  "
      ]
     },
     "execution_count": 8,
     "metadata": {},
     "output_type": "execute_result"
    }
   ],
   "source": [
    "# Basic statistics of the DataFrame\n",
    "cleaned_byarea_df.describe()"
   ]
  },
  {
   "cell_type": "code",
   "execution_count": 9,
   "id": "f1ea98fb",
   "metadata": {},
   "outputs": [
    {
     "data": {
      "text/html": [
       "<div>\n",
       "<style scoped>\n",
       "    .dataframe tbody tr th:only-of-type {\n",
       "        vertical-align: middle;\n",
       "    }\n",
       "\n",
       "    .dataframe tbody tr th {\n",
       "        vertical-align: top;\n",
       "    }\n",
       "\n",
       "    .dataframe thead th {\n",
       "        text-align: right;\n",
       "    }\n",
       "</style>\n",
       "<table border=\"1\" class=\"dataframe\">\n",
       "  <thead>\n",
       "    <tr style=\"text-align: right;\">\n",
       "      <th></th>\n",
       "      <th>AREA</th>\n",
       "      <th>AGE_ADJUSTED_CI_LOWER</th>\n",
       "      <th>AGE_ADJUSTED_CI_UPPER</th>\n",
       "      <th>AGE_ADJUSTED_RATE</th>\n",
       "      <th>EVENT_TYPE</th>\n",
       "      <th>POPULATION</th>\n",
       "      <th>RACE</th>\n",
       "      <th>SEX</th>\n",
       "      <th>SITE</th>\n",
       "      <th>YEAR</th>\n",
       "      <th>CRUDE_CI_LOWER</th>\n",
       "      <th>CRUDE_CI_UPPER</th>\n",
       "      <th>CRUDE_RATE</th>\n",
       "    </tr>\n",
       "  </thead>\n",
       "  <tbody>\n",
       "    <tr>\n",
       "      <th>3190</th>\n",
       "      <td>Alabama</td>\n",
       "      <td>0.0</td>\n",
       "      <td>51.9</td>\n",
       "      <td>0.0</td>\n",
       "      <td>Incidence</td>\n",
       "      <td>11411</td>\n",
       "      <td>American Indian/Alaska Native</td>\n",
       "      <td>Female</td>\n",
       "      <td>Brain and Other Nervous System</td>\n",
       "      <td>1999</td>\n",
       "      <td>0.0</td>\n",
       "      <td>32.3</td>\n",
       "      <td>0.0</td>\n",
       "    </tr>\n",
       "    <tr>\n",
       "      <th>3191</th>\n",
       "      <td>Alabama</td>\n",
       "      <td>0.0</td>\n",
       "      <td>51.9</td>\n",
       "      <td>0.0</td>\n",
       "      <td>Mortality</td>\n",
       "      <td>11411</td>\n",
       "      <td>American Indian/Alaska Native</td>\n",
       "      <td>Female</td>\n",
       "      <td>Brain and Other Nervous System</td>\n",
       "      <td>1999</td>\n",
       "      <td>0.0</td>\n",
       "      <td>32.3</td>\n",
       "      <td>0.0</td>\n",
       "    </tr>\n",
       "    <tr>\n",
       "      <th>3192</th>\n",
       "      <td>Alabama</td>\n",
       "      <td>0.0</td>\n",
       "      <td>44.9</td>\n",
       "      <td>0.0</td>\n",
       "      <td>Incidence</td>\n",
       "      <td>12506</td>\n",
       "      <td>American Indian/Alaska Native</td>\n",
       "      <td>Female</td>\n",
       "      <td>Brain and Other Nervous System</td>\n",
       "      <td>2000</td>\n",
       "      <td>0.0</td>\n",
       "      <td>29.5</td>\n",
       "      <td>0.0</td>\n",
       "    </tr>\n",
       "    <tr>\n",
       "      <th>3193</th>\n",
       "      <td>Alabama</td>\n",
       "      <td>0.0</td>\n",
       "      <td>44.9</td>\n",
       "      <td>0.0</td>\n",
       "      <td>Mortality</td>\n",
       "      <td>12506</td>\n",
       "      <td>American Indian/Alaska Native</td>\n",
       "      <td>Female</td>\n",
       "      <td>Brain and Other Nervous System</td>\n",
       "      <td>2000</td>\n",
       "      <td>0.0</td>\n",
       "      <td>29.5</td>\n",
       "      <td>0.0</td>\n",
       "    </tr>\n",
       "    <tr>\n",
       "      <th>3194</th>\n",
       "      <td>Alabama</td>\n",
       "      <td>0.0</td>\n",
       "      <td>43.1</td>\n",
       "      <td>0.0</td>\n",
       "      <td>Incidence</td>\n",
       "      <td>12933</td>\n",
       "      <td>American Indian/Alaska Native</td>\n",
       "      <td>Female</td>\n",
       "      <td>Brain and Other Nervous System</td>\n",
       "      <td>2001</td>\n",
       "      <td>0.0</td>\n",
       "      <td>28.5</td>\n",
       "      <td>0.0</td>\n",
       "    </tr>\n",
       "  </tbody>\n",
       "</table>\n",
       "</div>"
      ],
      "text/plain": [
       "         AREA  AGE_ADJUSTED_CI_LOWER  AGE_ADJUSTED_CI_UPPER  \\\n",
       "3190  Alabama                    0.0                   51.9   \n",
       "3191  Alabama                    0.0                   51.9   \n",
       "3192  Alabama                    0.0                   44.9   \n",
       "3193  Alabama                    0.0                   44.9   \n",
       "3194  Alabama                    0.0                   43.1   \n",
       "\n",
       "      AGE_ADJUSTED_RATE EVENT_TYPE  POPULATION                           RACE  \\\n",
       "3190                0.0  Incidence       11411  American Indian/Alaska Native   \n",
       "3191                0.0  Mortality       11411  American Indian/Alaska Native   \n",
       "3192                0.0  Incidence       12506  American Indian/Alaska Native   \n",
       "3193                0.0  Mortality       12506  American Indian/Alaska Native   \n",
       "3194                0.0  Incidence       12933  American Indian/Alaska Native   \n",
       "\n",
       "         SEX                            SITE  YEAR  CRUDE_CI_LOWER  \\\n",
       "3190  Female  Brain and Other Nervous System  1999             0.0   \n",
       "3191  Female  Brain and Other Nervous System  1999             0.0   \n",
       "3192  Female  Brain and Other Nervous System  2000             0.0   \n",
       "3193  Female  Brain and Other Nervous System  2000             0.0   \n",
       "3194  Female  Brain and Other Nervous System  2001             0.0   \n",
       "\n",
       "      CRUDE_CI_UPPER  CRUDE_RATE  \n",
       "3190            32.3         0.0  \n",
       "3191            32.3         0.0  \n",
       "3192            29.5         0.0  \n",
       "3193            29.5         0.0  \n",
       "3194            28.5         0.0  "
      ]
     },
     "execution_count": 9,
     "metadata": {},
     "output_type": "execute_result"
    }
   ],
   "source": [
    "# Filter DataFrame for United States (comparable to ICDO2), 20152019, All Races, All Cancer Sites Combined\n",
    "filtered_cleaned_byarea_df = cleaned_byarea_df[\n",
    "    (cleaned_byarea_df['AREA'] != 'United States (comparable to ICDO2)') &  \n",
    "    (cleaned_byarea_df['YEAR'] != 20152019) & \n",
    "    (cleaned_byarea_df['RACE'] != 'All Races') &\n",
    "    (cleaned_byarea_df['SITE'] != 'All Cancer Sites Combined')\n",
    "]\n",
    "\n",
    "filtered_cleaned_byarea_df.head()"
   ]
  },
  {
   "cell_type": "code",
   "execution_count": 10,
   "id": "a9eaf9f1",
   "metadata": {},
   "outputs": [
    {
     "data": {
      "text/plain": [
       "(721849, 13)"
      ]
     },
     "execution_count": 10,
     "metadata": {},
     "output_type": "execute_result"
    }
   ],
   "source": [
    "# Check shape of the filtered DataFrame\n",
    "filtered_cleaned_byarea_df.shape"
   ]
  },
  {
   "cell_type": "code",
   "execution_count": 11,
   "id": "97e1aa1e",
   "metadata": {},
   "outputs": [
    {
     "data": {
      "text/html": [
       "<div>\n",
       "<style scoped>\n",
       "    .dataframe tbody tr th:only-of-type {\n",
       "        vertical-align: middle;\n",
       "    }\n",
       "\n",
       "    .dataframe tbody tr th {\n",
       "        vertical-align: top;\n",
       "    }\n",
       "\n",
       "    .dataframe thead th {\n",
       "        text-align: right;\n",
       "    }\n",
       "</style>\n",
       "<table border=\"1\" class=\"dataframe\">\n",
       "  <thead>\n",
       "    <tr style=\"text-align: right;\">\n",
       "      <th></th>\n",
       "      <th>AREA</th>\n",
       "      <th>EVENT_TYPE</th>\n",
       "      <th>RACE</th>\n",
       "      <th>SEX</th>\n",
       "      <th>SITE</th>\n",
       "      <th>YEAR</th>\n",
       "      <th>AGE_ADJUSTED_RATE</th>\n",
       "    </tr>\n",
       "  </thead>\n",
       "  <tbody>\n",
       "    <tr>\n",
       "      <th>3190</th>\n",
       "      <td>Alabama</td>\n",
       "      <td>Incidence</td>\n",
       "      <td>American Indian/Alaska Native</td>\n",
       "      <td>Female</td>\n",
       "      <td>Brain and Other Nervous System</td>\n",
       "      <td>1999</td>\n",
       "      <td>0.0</td>\n",
       "    </tr>\n",
       "    <tr>\n",
       "      <th>3191</th>\n",
       "      <td>Alabama</td>\n",
       "      <td>Mortality</td>\n",
       "      <td>American Indian/Alaska Native</td>\n",
       "      <td>Female</td>\n",
       "      <td>Brain and Other Nervous System</td>\n",
       "      <td>1999</td>\n",
       "      <td>0.0</td>\n",
       "    </tr>\n",
       "    <tr>\n",
       "      <th>3192</th>\n",
       "      <td>Alabama</td>\n",
       "      <td>Incidence</td>\n",
       "      <td>American Indian/Alaska Native</td>\n",
       "      <td>Female</td>\n",
       "      <td>Brain and Other Nervous System</td>\n",
       "      <td>2000</td>\n",
       "      <td>0.0</td>\n",
       "    </tr>\n",
       "    <tr>\n",
       "      <th>3193</th>\n",
       "      <td>Alabama</td>\n",
       "      <td>Mortality</td>\n",
       "      <td>American Indian/Alaska Native</td>\n",
       "      <td>Female</td>\n",
       "      <td>Brain and Other Nervous System</td>\n",
       "      <td>2000</td>\n",
       "      <td>0.0</td>\n",
       "    </tr>\n",
       "    <tr>\n",
       "      <th>3194</th>\n",
       "      <td>Alabama</td>\n",
       "      <td>Incidence</td>\n",
       "      <td>American Indian/Alaska Native</td>\n",
       "      <td>Female</td>\n",
       "      <td>Brain and Other Nervous System</td>\n",
       "      <td>2001</td>\n",
       "      <td>0.0</td>\n",
       "    </tr>\n",
       "  </tbody>\n",
       "</table>\n",
       "</div>"
      ],
      "text/plain": [
       "         AREA EVENT_TYPE                           RACE     SEX  \\\n",
       "3190  Alabama  Incidence  American Indian/Alaska Native  Female   \n",
       "3191  Alabama  Mortality  American Indian/Alaska Native  Female   \n",
       "3192  Alabama  Incidence  American Indian/Alaska Native  Female   \n",
       "3193  Alabama  Mortality  American Indian/Alaska Native  Female   \n",
       "3194  Alabama  Incidence  American Indian/Alaska Native  Female   \n",
       "\n",
       "                                SITE  YEAR  AGE_ADJUSTED_RATE  \n",
       "3190  Brain and Other Nervous System  1999                0.0  \n",
       "3191  Brain and Other Nervous System  1999                0.0  \n",
       "3192  Brain and Other Nervous System  2000                0.0  \n",
       "3193  Brain and Other Nervous System  2000                0.0  \n",
       "3194  Brain and Other Nervous System  2001                0.0  "
      ]
     },
     "execution_count": 11,
     "metadata": {},
     "output_type": "execute_result"
    }
   ],
   "source": [
    "# Remove columns from filtered DataFrame\n",
    "short_filtered_cleaned_byarea_df = filtered_cleaned_byarea_df[[\n",
    "    'AREA', \n",
    "    'EVENT_TYPE', \n",
    "    'RACE', \n",
    "    'SEX', \n",
    "    'SITE' , \n",
    "    'YEAR', \n",
    "    'AGE_ADJUSTED_RATE']]\n",
    "\n",
    "short_filtered_cleaned_byarea_df.head()"
   ]
  },
  {
   "cell_type": "code",
   "execution_count": 12,
   "id": "ebb1cfae",
   "metadata": {},
   "outputs": [],
   "source": [
    "# converting the YEAR to datetime format\n",
    "# short_filtered_cleaned_byarea_df['YEAR'].astype('int32')\n",
    "# short_filtered_cleaned_byarea_df['YEAR'] = pd.to_datetime(short_filtered_cleaned_byarea_df['YEAR'], format='%Y')"
   ]
  },
  {
   "cell_type": "code",
   "execution_count": 13,
   "id": "36b59102",
   "metadata": {},
   "outputs": [
    {
     "name": "stdout",
     "output_type": "stream",
     "text": [
      "<class 'pandas.core.frame.DataFrame'>\n",
      "Int64Index: 721849 entries, 3190 to 949307\n",
      "Data columns (total 7 columns):\n",
      " #   Column             Non-Null Count   Dtype  \n",
      "---  ------             --------------   -----  \n",
      " 0   AREA               721849 non-null  object \n",
      " 1   EVENT_TYPE         721849 non-null  object \n",
      " 2   RACE               721849 non-null  object \n",
      " 3   SEX                721849 non-null  object \n",
      " 4   SITE               721849 non-null  object \n",
      " 5   YEAR               721849 non-null  int64  \n",
      " 6   AGE_ADJUSTED_RATE  721849 non-null  float64\n",
      "dtypes: float64(1), int64(1), object(5)\n",
      "memory usage: 44.1+ MB\n"
     ]
    }
   ],
   "source": [
    "# Check info of the DataFrame\n",
    "short_filtered_cleaned_byarea_df.info()"
   ]
  },
  {
   "cell_type": "code",
   "execution_count": 14,
   "id": "b05fb4f5",
   "metadata": {},
   "outputs": [
    {
     "data": {
      "text/html": [
       "<div>\n",
       "<style scoped>\n",
       "    .dataframe tbody tr th:only-of-type {\n",
       "        vertical-align: middle;\n",
       "    }\n",
       "\n",
       "    .dataframe tbody tr th {\n",
       "        vertical-align: top;\n",
       "    }\n",
       "\n",
       "    .dataframe thead th {\n",
       "        text-align: right;\n",
       "    }\n",
       "</style>\n",
       "<table border=\"1\" class=\"dataframe\">\n",
       "  <thead>\n",
       "    <tr style=\"text-align: right;\">\n",
       "      <th></th>\n",
       "      <th>YEAR</th>\n",
       "      <th>AGE_ADJUSTED_RATE</th>\n",
       "    </tr>\n",
       "  </thead>\n",
       "  <tbody>\n",
       "    <tr>\n",
       "      <th>count</th>\n",
       "      <td>721849.000000</td>\n",
       "      <td>721849.000000</td>\n",
       "    </tr>\n",
       "    <tr>\n",
       "      <th>mean</th>\n",
       "      <td>2009.016721</td>\n",
       "      <td>11.831796</td>\n",
       "    </tr>\n",
       "    <tr>\n",
       "      <th>std</th>\n",
       "      <td>6.040536</td>\n",
       "      <td>25.008067</td>\n",
       "    </tr>\n",
       "    <tr>\n",
       "      <th>min</th>\n",
       "      <td>1999.000000</td>\n",
       "      <td>0.000000</td>\n",
       "    </tr>\n",
       "    <tr>\n",
       "      <th>25%</th>\n",
       "      <td>2004.000000</td>\n",
       "      <td>0.000000</td>\n",
       "    </tr>\n",
       "    <tr>\n",
       "      <th>50%</th>\n",
       "      <td>2009.000000</td>\n",
       "      <td>4.000000</td>\n",
       "    </tr>\n",
       "    <tr>\n",
       "      <th>75%</th>\n",
       "      <td>2014.000000</td>\n",
       "      <td>11.900000</td>\n",
       "    </tr>\n",
       "    <tr>\n",
       "      <th>max</th>\n",
       "      <td>2019.000000</td>\n",
       "      <td>1699.200000</td>\n",
       "    </tr>\n",
       "  </tbody>\n",
       "</table>\n",
       "</div>"
      ],
      "text/plain": [
       "                YEAR  AGE_ADJUSTED_RATE\n",
       "count  721849.000000      721849.000000\n",
       "mean     2009.016721          11.831796\n",
       "std         6.040536          25.008067\n",
       "min      1999.000000           0.000000\n",
       "25%      2004.000000           0.000000\n",
       "50%      2009.000000           4.000000\n",
       "75%      2014.000000          11.900000\n",
       "max      2019.000000        1699.200000"
      ]
     },
     "execution_count": 14,
     "metadata": {},
     "output_type": "execute_result"
    }
   ],
   "source": [
    "# Basic statistics of the short filtered DataFrame\n",
    "short_filtered_cleaned_byarea_df.describe()"
   ]
  },
  {
   "cell_type": "code",
   "execution_count": 15,
   "id": "074754e0",
   "metadata": {},
   "outputs": [
    {
     "data": {
      "image/png": "[encoded data removed]",
      "text/plain": [
       "<Figure size 720x432 with 1 Axes>"
      ]
     },
     "metadata": {},
     "output_type": "display_data"
    }
   ],
   "source": [
    "# plot box plot of age-adjusted rate,showing outliers\n",
    "columns_plot = [short_filtered_cleaned_byarea_df['AGE_ADJUSTED_RATE']]\n",
    "\n",
    "x_labels = ['AGE_ADJUSTED_RATE']\n",
    "\n",
    "plt.style.use('seaborn-colorblind')\n",
    "\n",
    "sns.set_style('dark')\n",
    "\n",
    "fig, ax = plt.subplots(figsize = (10,6))\n",
    "\n",
    "ax.boxplot(columns_plot,\n",
    "           showmeans = True,\n",
    "           meanline = True,\n",
    "          # showfliers = False,\n",
    "           labels = x_labels\n",
    "          )\n",
    "\n",
    "ax.set_ylabel('Cancer Rate')\n",
    "\n",
    "plt.show()"
   ]
  },
  {
   "cell_type": "code",
   "execution_count": 16,
   "id": "ab59ec1d",
   "metadata": {},
   "outputs": [
    {
     "name": "stdout",
     "output_type": "stream",
     "text": [
      "68258\n"
     ]
    },
    {
     "data": {
      "text/html": [
       "<div>\n",
       "<style scoped>\n",
       "    .dataframe tbody tr th:only-of-type {\n",
       "        vertical-align: middle;\n",
       "    }\n",
       "\n",
       "    .dataframe tbody tr th {\n",
       "        vertical-align: top;\n",
       "    }\n",
       "\n",
       "    .dataframe thead th {\n",
       "        text-align: right;\n",
       "    }\n",
       "</style>\n",
       "<table border=\"1\" class=\"dataframe\">\n",
       "  <thead>\n",
       "    <tr style=\"text-align: right;\">\n",
       "      <th></th>\n",
       "      <th>AREA</th>\n",
       "      <th>EVENT_TYPE</th>\n",
       "      <th>RACE</th>\n",
       "      <th>SEX</th>\n",
       "      <th>SITE</th>\n",
       "      <th>YEAR</th>\n",
       "      <th>AGE_ADJUSTED_RATE</th>\n",
       "    </tr>\n",
       "  </thead>\n",
       "  <tbody>\n",
       "    <tr>\n",
       "      <th>3190</th>\n",
       "      <td>Alabama</td>\n",
       "      <td>Incidence</td>\n",
       "      <td>American Indian/Alaska Native</td>\n",
       "      <td>Female</td>\n",
       "      <td>Brain and Other Nervous System</td>\n",
       "      <td>1999</td>\n",
       "      <td>0.0</td>\n",
       "    </tr>\n",
       "    <tr>\n",
       "      <th>3191</th>\n",
       "      <td>Alabama</td>\n",
       "      <td>Mortality</td>\n",
       "      <td>American Indian/Alaska Native</td>\n",
       "      <td>Female</td>\n",
       "      <td>Brain and Other Nervous System</td>\n",
       "      <td>1999</td>\n",
       "      <td>0.0</td>\n",
       "    </tr>\n",
       "    <tr>\n",
       "      <th>3192</th>\n",
       "      <td>Alabama</td>\n",
       "      <td>Incidence</td>\n",
       "      <td>American Indian/Alaska Native</td>\n",
       "      <td>Female</td>\n",
       "      <td>Brain and Other Nervous System</td>\n",
       "      <td>2000</td>\n",
       "      <td>0.0</td>\n",
       "    </tr>\n",
       "    <tr>\n",
       "      <th>3193</th>\n",
       "      <td>Alabama</td>\n",
       "      <td>Mortality</td>\n",
       "      <td>American Indian/Alaska Native</td>\n",
       "      <td>Female</td>\n",
       "      <td>Brain and Other Nervous System</td>\n",
       "      <td>2000</td>\n",
       "      <td>0.0</td>\n",
       "    </tr>\n",
       "    <tr>\n",
       "      <th>3194</th>\n",
       "      <td>Alabama</td>\n",
       "      <td>Incidence</td>\n",
       "      <td>American Indian/Alaska Native</td>\n",
       "      <td>Female</td>\n",
       "      <td>Brain and Other Nervous System</td>\n",
       "      <td>2001</td>\n",
       "      <td>0.0</td>\n",
       "    </tr>\n",
       "  </tbody>\n",
       "</table>\n",
       "</div>"
      ],
      "text/plain": [
       "         AREA EVENT_TYPE                           RACE     SEX  \\\n",
       "3190  Alabama  Incidence  American Indian/Alaska Native  Female   \n",
       "3191  Alabama  Mortality  American Indian/Alaska Native  Female   \n",
       "3192  Alabama  Incidence  American Indian/Alaska Native  Female   \n",
       "3193  Alabama  Mortality  American Indian/Alaska Native  Female   \n",
       "3194  Alabama  Incidence  American Indian/Alaska Native  Female   \n",
       "\n",
       "                                SITE  YEAR  AGE_ADJUSTED_RATE  \n",
       "3190  Brain and Other Nervous System  1999                0.0  \n",
       "3191  Brain and Other Nervous System  1999                0.0  \n",
       "3192  Brain and Other Nervous System  2000                0.0  \n",
       "3193  Brain and Other Nervous System  2000                0.0  \n",
       "3194  Brain and Other Nervous System  2001                0.0  "
      ]
     },
     "execution_count": 16,
     "metadata": {},
     "output_type": "execute_result"
    }
   ],
   "source": [
    "# Remove outliers from the DataFrame\n",
    "q1 = short_filtered_cleaned_byarea_df['AGE_ADJUSTED_RATE'].quantile(0.25)\n",
    "q3 = short_filtered_cleaned_byarea_df['AGE_ADJUSTED_RATE'].quantile(0.75)\n",
    "iqr = q3 - q1\n",
    "\n",
    "print(((short_filtered_cleaned_byarea_df['AGE_ADJUSTED_RATE'] < (q1 - 1.5 * iqr)) | \n",
    "       (short_filtered_cleaned_byarea_df['AGE_ADJUSTED_RATE'] > (q3 + 1.5 * iqr))).sum())\n",
    "\n",
    "fence_low  = q1-1.5*iqr\n",
    "fence_high = q3+1.5*iqr\n",
    "\n",
    "short_filtered_cleaned_byarea_df2 = short_filtered_cleaned_byarea_df[\n",
    "    (short_filtered_cleaned_byarea_df['AGE_ADJUSTED_RATE'] > fence_low) & \n",
    "    (short_filtered_cleaned_byarea_df['AGE_ADJUSTED_RATE'] < fence_high)\n",
    "]\n",
    "\n",
    "short_filtered_cleaned_byarea_df2.head()"
   ]
  },
  {
   "cell_type": "code",
   "execution_count": 17,
   "id": "b2c75d57",
   "metadata": {},
   "outputs": [
    {
     "data": {
      "text/plain": [
       "(653591, 7)"
      ]
     },
     "execution_count": 17,
     "metadata": {},
     "output_type": "execute_result"
    }
   ],
   "source": [
    "# Check info of the DataFrame after removing outliers (total 68258 outliers ~9.5%)\n",
    "short_filtered_cleaned_byarea_df2.shape"
   ]
  },
  {
   "cell_type": "code",
   "execution_count": 18,
   "id": "dcf921b7",
   "metadata": {},
   "outputs": [
    {
     "data": {
      "image/png": "[encoded data removed]",
      "text/plain": [
       "<Figure size 720x432 with 1 Axes>"
      ]
     },
     "metadata": {},
     "output_type": "display_data"
    }
   ],
   "source": [
    "# plot box plot of age-adjusted rate,after removing outliers\n",
    "columns_plot = [short_filtered_cleaned_byarea_df2['AGE_ADJUSTED_RATE']]\n",
    "\n",
    "x_labels = ['AGE_ADJUSTED_RATE']\n",
    "\n",
    "plt.style.use('seaborn-colorblind')\n",
    "\n",
    "sns.set_style('dark')\n",
    "\n",
    "fig, ax = plt.subplots(figsize = (10,6))\n",
    "\n",
    "ax.boxplot(columns_plot,\n",
    "           showmeans = True,\n",
    "           meanline = True,\n",
    "          showfliers = False,\n",
    "           labels = x_labels\n",
    "          )\n",
    "\n",
    "ax.set_ylabel('Cancer Rate')\n",
    "\n",
    "plt.show()"
   ]
  },
  {
   "cell_type": "code",
   "execution_count": 19,
   "id": "9750934b",
   "metadata": {},
   "outputs": [
    {
     "data": {
      "image/png": "[encoded data removed]",
      "text/plain": [
       "<Figure size 720x432 with 1 Axes>"
      ]
     },
     "metadata": {},
     "output_type": "display_data"
    }
   ],
   "source": [
    "# plot box plot of age-adjusted rate for EVENT_TYPE showing outliers\n",
    "\n",
    "plt.style.use('seaborn-colorblind')\n",
    "\n",
    "sns.set_style('dark')\n",
    "\n",
    "plt.figure(figsize=(10,6))\n",
    "\n",
    "sns.boxplot(x = short_filtered_cleaned_byarea_df2['EVENT_TYPE'], \n",
    "            y = short_filtered_cleaned_byarea_df2['AGE_ADJUSTED_RATE'],\n",
    "           showmeans = True,\n",
    "            showfliers = False,\n",
    "           meanline = True\n",
    "           )\n",
    "\n",
    "plt.show()"
   ]
  },
  {
   "cell_type": "code",
   "execution_count": 20,
   "id": "82396fd6",
   "metadata": {},
   "outputs": [
    {
     "data": {
      "image/png": "[encoded data removed]",
      "text/plain": [
       "<Figure size 1080x432 with 1 Axes>"
      ]
     },
     "metadata": {},
     "output_type": "display_data"
    }
   ],
   "source": [
    "# plot box plot of age-adjusted rate for RACE \n",
    "\n",
    "plt.style.use('seaborn-colorblind')\n",
    "\n",
    "sns.set_style('dark')\n",
    "\n",
    "plt.figure(figsize=(15,6))\n",
    "\n",
    "sns.boxplot(x = short_filtered_cleaned_byarea_df2['RACE'], \n",
    "            y = short_filtered_cleaned_byarea_df2['AGE_ADJUSTED_RATE'],\n",
    "           showmeans = True,\n",
    "            showfliers = False,\n",
    "           meanline = True\n",
    "           )\n",
    "plt.show()"
   ]
  },
  {
   "cell_type": "code",
   "execution_count": 21,
   "id": "7fc2a9f6",
   "metadata": {},
   "outputs": [
    {
     "data": {
      "image/png": "[encoded data removed]",
      "text/plain": [
       "<Figure size 720x432 with 1 Axes>"
      ]
     },
     "metadata": {},
     "output_type": "display_data"
    }
   ],
   "source": [
    "# plot box plot of age-adjusted rate for SEX \n",
    "\n",
    "plt.style.use('seaborn-colorblind')\n",
    "\n",
    "sns.set_style('dark')\n",
    "\n",
    "plt.figure(figsize=(10,6))\n",
    "\n",
    "sns.boxplot(x = short_filtered_cleaned_byarea_df2['SEX'], \n",
    "            y = short_filtered_cleaned_byarea_df2['AGE_ADJUSTED_RATE'],\n",
    "           showmeans = True,\n",
    "            showfliers = False,\n",
    "           meanline = True\n",
    "           )\n",
    "plt.show()"
   ]
  },
  {
   "cell_type": "code",
   "execution_count": 22,
   "id": "cf7dde72",
   "metadata": {},
   "outputs": [
    {
     "data": {
      "image/png": "[encoded data removed]",
      "text/plain": [
       "<Figure size 1080x432 with 1 Axes>"
      ]
     },
     "metadata": {},
     "output_type": "display_data"
    }
   ],
   "source": [
    "# plot box plot of age-adjusted rate for SITE\n",
    "\n",
    "plt.style.use('seaborn-colorblind')\n",
    "\n",
    "sns.set_style('dark')\n",
    "\n",
    "plt.figure(figsize=(15,6))\n",
    "\n",
    "sns.boxplot(x = short_filtered_cleaned_byarea_df2['SITE'], \n",
    "            y = short_filtered_cleaned_byarea_df2['AGE_ADJUSTED_RATE'],\n",
    "           showmeans = True,\n",
    "            showfliers = False,\n",
    "           meanline = True\n",
    "           )\n",
    "\n",
    "plt.xticks(rotation = 90)\n",
    "\n",
    "plt.show()"
   ]
  },
  {
   "cell_type": "code",
   "execution_count": 23,
   "id": "480d4489",
   "metadata": {},
   "outputs": [
    {
     "data": {
      "image/png": "[encoded data removed]",
      "text/plain": [
       "<Figure size 1440x432 with 1 Axes>"
      ]
     },
     "metadata": {},
     "output_type": "display_data"
    }
   ],
   "source": [
    "# plot box plot of age-adjusted rate for AREA\n",
    "\n",
    "plt.style.use('seaborn-colorblind')\n",
    "\n",
    "sns.set_style('dark')\n",
    "\n",
    "plt.figure(figsize=(20,6))\n",
    "\n",
    "sns.boxplot(x = short_filtered_cleaned_byarea_df2['AREA'], \n",
    "            y = short_filtered_cleaned_byarea_df2['AGE_ADJUSTED_RATE'],\n",
    "           showmeans = True,\n",
    "            showfliers = False,\n",
    "           meanline = True\n",
    "           )\n",
    "\n",
    "plt.xticks(rotation = 90)\n",
    "\n",
    "plt.show()"
   ]
  },
  {
   "cell_type": "code",
   "execution_count": 24,
   "id": "41fb6466",
   "metadata": {},
   "outputs": [
    {
     "data": {
      "image/png": "[encoded data removed]",
      "text/plain": [
       "<Figure size 1440x432 with 1 Axes>"
      ]
     },
     "metadata": {},
     "output_type": "display_data"
    }
   ],
   "source": [
    "# plot box plot of age-adjusted rate for YEAR\n",
    "\n",
    "plt.style.use('seaborn-colorblind')\n",
    "\n",
    "sns.set_style('dark')\n",
    "\n",
    "plt.figure(figsize=(20,6))\n",
    "\n",
    "sns.boxplot(x = short_filtered_cleaned_byarea_df2['YEAR'], \n",
    "            y = short_filtered_cleaned_byarea_df2['AGE_ADJUSTED_RATE'],\n",
    "           showmeans = True,\n",
    "            showfliers = False,\n",
    "           meanline = True\n",
    "           )\n",
    "\n",
    "plt.xticks(rotation = 90)\n",
    "\n",
    "plt.show()"
   ]
  },
  {
   "cell_type": "code",
   "execution_count": 25,
   "id": "482f1b64",
   "metadata": {},
   "outputs": [],
   "source": [
    "# Saving cleaned DataFrame to csv\n",
    "short_filtered_cleaned_byarea_df2.to_csv('short_filtered_cleaned_byarea.csv', index = False)"
   ]
  }
 ],
 "metadata": {
  "kernelspec": {
   "display_name": "mlenv",
   "language": "python",
   "name": "mlenv"
  },
  "language_info": {
   "codemirror_mode": {
    "name": "ipython",
    "version": 3
   },
   "file_extension": ".py",
   "mimetype": "text/x-python",
   "name": "python",
   "nbconvert_exporter": "python",
   "pygments_lexer": "ipython3",
   "version": "3.7.13"
  }
 },
 "nbformat": 4,
 "nbformat_minor": 5
}
