{
 "cells": [
  {
   "cell_type": "code",
   "execution_count": 2,
   "id": "13f7abf1",
   "metadata": {},
   "outputs": [],
   "source": [
    "# Import pandas dependencies\n",
    "import pandas as pd\n",
    "import numpy as np"
   ]
  },
  {
   "cell_type": "code",
   "execution_count": 3,
   "id": "f6d2a0ee",
   "metadata": {},
   "outputs": [
    {
     "name": "stderr",
     "output_type": "stream",
     "text": [
      "C:\\Users\\mbore\\Anaconda3\\envs\\mlenv\\lib\\site-packages\\IPython\\core\\interactiveshell.py:3457: FutureWarning: In a future version of pandas all arguments of read_csv except for the argument 'filepath_or_buffer' will be keyword-only\n",
      "  exec(code_obj, self.user_global_ns, self.user_ns)\n",
      "C:\\Users\\mbore\\Anaconda3\\envs\\mlenv\\lib\\site-packages\\IPython\\core\\interactiveshell.py:3457: DtypeWarning: Columns (1,2,3,11,12,13) have mixed types.Specify dtype option on import or set low_memory=False.\n",
      "  exec(code_obj, self.user_global_ns, self.user_ns)\n"
     ]
    },
    {
     "data": {
      "text/html": [
       "<div>\n",
       "<style scoped>\n",
       "    .dataframe tbody tr th:only-of-type {\n",
       "        vertical-align: middle;\n",
       "    }\n",
       "\n",
       "    .dataframe tbody tr th {\n",
       "        vertical-align: top;\n",
       "    }\n",
       "\n",
       "    .dataframe thead th {\n",
       "        text-align: right;\n",
       "    }\n",
       "</style>\n",
       "<table border=\"1\" class=\"dataframe\">\n",
       "  <thead>\n",
       "    <tr style=\"text-align: right;\">\n",
       "      <th></th>\n",
       "      <th>AREA</th>\n",
       "      <th>AGE_ADJUSTED_CI_LOWER</th>\n",
       "      <th>AGE_ADJUSTED_CI_UPPER</th>\n",
       "      <th>AGE_ADJUSTED_RATE</th>\n",
       "      <th>COUNT</th>\n",
       "      <th>EVENT_TYPE</th>\n",
       "      <th>POPULATION</th>\n",
       "      <th>RACE</th>\n",
       "      <th>SEX</th>\n",
       "      <th>SITE</th>\n",
       "      <th>YEAR</th>\n",
       "      <th>CRUDE_CI_LOWER</th>\n",
       "      <th>CRUDE_CI_UPPER</th>\n",
       "      <th>CRUDE_RATE</th>\n",
       "    </tr>\n",
       "  </thead>\n",
       "  <tbody>\n",
       "    <tr>\n",
       "      <th>0</th>\n",
       "      <td>Alabama</td>\n",
       "      <td>359.7</td>\n",
       "      <td>374.7</td>\n",
       "      <td>367.2</td>\n",
       "      <td>9299</td>\n",
       "      <td>Incidence</td>\n",
       "      <td>2293259</td>\n",
       "      <td>All Races</td>\n",
       "      <td>Female</td>\n",
       "      <td>All Cancer Sites Combined</td>\n",
       "      <td>1999</td>\n",
       "      <td>397.3</td>\n",
       "      <td>413.8</td>\n",
       "      <td>405.5</td>\n",
       "    </tr>\n",
       "    <tr>\n",
       "      <th>1</th>\n",
       "      <td>Alabama</td>\n",
       "      <td>160.6</td>\n",
       "      <td>170.5</td>\n",
       "      <td>165.5</td>\n",
       "      <td>4366</td>\n",
       "      <td>Mortality</td>\n",
       "      <td>2293259</td>\n",
       "      <td>All Races</td>\n",
       "      <td>Female</td>\n",
       "      <td>All Cancer Sites Combined</td>\n",
       "      <td>1999</td>\n",
       "      <td>184.8</td>\n",
       "      <td>196.1</td>\n",
       "      <td>190.4</td>\n",
       "    </tr>\n",
       "    <tr>\n",
       "      <th>2</th>\n",
       "      <td>Alabama</td>\n",
       "      <td>362.1</td>\n",
       "      <td>377.1</td>\n",
       "      <td>369.5</td>\n",
       "      <td>9475</td>\n",
       "      <td>Incidence</td>\n",
       "      <td>2302835</td>\n",
       "      <td>All Races</td>\n",
       "      <td>Female</td>\n",
       "      <td>All Cancer Sites Combined</td>\n",
       "      <td>2000</td>\n",
       "      <td>403.2</td>\n",
       "      <td>419.8</td>\n",
       "      <td>411.4</td>\n",
       "    </tr>\n",
       "    <tr>\n",
       "      <th>3</th>\n",
       "      <td>Alabama</td>\n",
       "      <td>160.8</td>\n",
       "      <td>170.6</td>\n",
       "      <td>165.7</td>\n",
       "      <td>4425</td>\n",
       "      <td>Mortality</td>\n",
       "      <td>2302835</td>\n",
       "      <td>All Races</td>\n",
       "      <td>Female</td>\n",
       "      <td>All Cancer Sites Combined</td>\n",
       "      <td>2000</td>\n",
       "      <td>186.5</td>\n",
       "      <td>197.9</td>\n",
       "      <td>192.2</td>\n",
       "    </tr>\n",
       "    <tr>\n",
       "      <th>4</th>\n",
       "      <td>Alabama</td>\n",
       "      <td>377.7</td>\n",
       "      <td>392.9</td>\n",
       "      <td>385.2</td>\n",
       "      <td>9971</td>\n",
       "      <td>Incidence</td>\n",
       "      <td>2309496</td>\n",
       "      <td>All Races</td>\n",
       "      <td>Female</td>\n",
       "      <td>All Cancer Sites Combined</td>\n",
       "      <td>2001</td>\n",
       "      <td>423.3</td>\n",
       "      <td>440.3</td>\n",
       "      <td>431.7</td>\n",
       "    </tr>\n",
       "  </tbody>\n",
       "</table>\n",
       "</div>"
      ],
      "text/plain": [
       "      AREA AGE_ADJUSTED_CI_LOWER AGE_ADJUSTED_CI_UPPER AGE_ADJUSTED_RATE  \\\n",
       "0  Alabama                 359.7                 374.7             367.2   \n",
       "1  Alabama                 160.6                 170.5             165.5   \n",
       "2  Alabama                 362.1                 377.1             369.5   \n",
       "3  Alabama                 160.8                 170.6             165.7   \n",
       "4  Alabama                 377.7                 392.9             385.2   \n",
       "\n",
       "  COUNT EVENT_TYPE  POPULATION       RACE     SEX                       SITE  \\\n",
       "0  9299  Incidence     2293259  All Races  Female  All Cancer Sites Combined   \n",
       "1  4366  Mortality     2293259  All Races  Female  All Cancer Sites Combined   \n",
       "2  9475  Incidence     2302835  All Races  Female  All Cancer Sites Combined   \n",
       "3  4425  Mortality     2302835  All Races  Female  All Cancer Sites Combined   \n",
       "4  9971  Incidence     2309496  All Races  Female  All Cancer Sites Combined   \n",
       "\n",
       "   YEAR CRUDE_CI_LOWER CRUDE_CI_UPPER CRUDE_RATE  \n",
       "0  1999          397.3          413.8      405.5  \n",
       "1  1999          184.8          196.1      190.4  \n",
       "2  2000          403.2          419.8      411.4  \n",
       "3  2000          186.5          197.9      192.2  \n",
       "4  2001          423.3          440.3      431.7  "
      ]
     },
     "execution_count": 3,
     "metadata": {},
     "output_type": "execute_result"
    }
   ],
   "source": [
    "# Load BYAREA data and create a DataFrame for the data\n",
    "byarea_df = pd.read_csv('BYAREA.TXT', '|')\n",
    "byarea_df.head()"
   ]
  },
  {
   "cell_type": "code",
   "execution_count": 4,
   "id": "3f01c448",
   "metadata": {},
   "outputs": [
    {
     "data": {
      "text/plain": [
       "(959076, 14)"
      ]
     },
     "execution_count": 4,
     "metadata": {},
     "output_type": "execute_result"
    }
   ],
   "source": [
    "# Check shape of DataFrame\n",
    "byarea_df.shape"
   ]
  },
  {
   "cell_type": "code",
   "execution_count": 5,
   "id": "c1831584",
   "metadata": {},
   "outputs": [
    {
     "data": {
      "text/plain": [
       "AREA                     object\n",
       "AGE_ADJUSTED_CI_LOWER    object\n",
       "AGE_ADJUSTED_CI_UPPER    object\n",
       "AGE_ADJUSTED_RATE        object\n",
       "COUNT                    object\n",
       "EVENT_TYPE               object\n",
       "POPULATION                int64\n",
       "RACE                     object\n",
       "SEX                      object\n",
       "SITE                     object\n",
       "YEAR                     object\n",
       "CRUDE_CI_LOWER           object\n",
       "CRUDE_CI_UPPER           object\n",
       "CRUDE_RATE               object\n",
       "dtype: object"
      ]
     },
     "execution_count": 5,
     "metadata": {},
     "output_type": "execute_result"
    }
   ],
   "source": [
    "# Check for data types in DataFrame\n",
    "byarea_df.dtypes"
   ]
  },
  {
   "cell_type": "code",
   "execution_count": 6,
   "id": "80016f05",
   "metadata": {},
   "outputs": [
    {
     "name": "stderr",
     "output_type": "stream",
     "text": [
      "C:\\Users\\mbore\\Anaconda3\\envs\\mlenv\\lib\\site-packages\\ipykernel_launcher.py:4: FutureWarning: The default value of regex will change from True to False in a future version. In addition, single character regular expressions will *not* be treated as literal strings when regex=True.\n",
      "  after removing the cwd from sys.path.\n"
     ]
    }
   ],
   "source": [
    "# Cleaning string columns that need to be numeric\n",
    "byarea_df = byarea_df.replace('-','', regex=True)\n",
    "byarea_df = byarea_df.replace('~','', regex=True)\n",
    "byarea_df['COUNT']= byarea_df['COUNT'].str.replace(\"+\",\"\")"
   ]
  },
  {
   "cell_type": "code",
   "execution_count": 7,
   "id": "b05c9992",
   "metadata": {},
   "outputs": [],
   "source": [
    "# Convert string columns to numberic datatype\n",
    "byarea_object_columns = ['AGE_ADJUSTED_CI_LOWER', \n",
    "                         'AGE_ADJUSTED_CI_UPPER', \n",
    "                         'AGE_ADJUSTED_RATE',\n",
    "                         'COUNT',\n",
    "                         'YEAR',\n",
    "                         'CRUDE_CI_LOWER', \n",
    "                         'CRUDE_CI_UPPER', \n",
    "                         'CRUDE_RATE'\n",
    "                        ]\n",
    "byarea_df[byarea_object_columns]= byarea_df[byarea_object_columns].apply(pd.to_numeric)"
   ]
  },
  {
   "cell_type": "code",
   "execution_count": 8,
   "id": "f6fb24bf",
   "metadata": {},
   "outputs": [
    {
     "data": {
      "text/plain": [
       "AREA                      object\n",
       "AGE_ADJUSTED_CI_LOWER    float64\n",
       "AGE_ADJUSTED_CI_UPPER    float64\n",
       "AGE_ADJUSTED_RATE        float64\n",
       "COUNT                    float64\n",
       "EVENT_TYPE                object\n",
       "POPULATION                 int64\n",
       "RACE                      object\n",
       "SEX                       object\n",
       "SITE                      object\n",
       "YEAR                       int64\n",
       "CRUDE_CI_LOWER           float64\n",
       "CRUDE_CI_UPPER           float64\n",
       "CRUDE_RATE               float64\n",
       "dtype: object"
      ]
     },
     "execution_count": 8,
     "metadata": {},
     "output_type": "execute_result"
    }
   ],
   "source": [
    "# Recheck for data types in DataFrame\n",
    "byarea_df.dtypes"
   ]
  },
  {
   "cell_type": "code",
   "execution_count": 9,
   "id": "a0486790",
   "metadata": {},
   "outputs": [
    {
     "data": {
      "text/plain": [
       "AREA                          0\n",
       "AGE_ADJUSTED_CI_LOWER      9768\n",
       "AGE_ADJUSTED_CI_UPPER      9768\n",
       "AGE_ADJUSTED_RATE          9768\n",
       "COUNT                    534266\n",
       "EVENT_TYPE                    0\n",
       "POPULATION                    0\n",
       "RACE                          0\n",
       "SEX                           0\n",
       "SITE                          0\n",
       "YEAR                          0\n",
       "CRUDE_CI_LOWER             9768\n",
       "CRUDE_CI_UPPER             9768\n",
       "CRUDE_RATE                 9768\n",
       "dtype: int64"
      ]
     },
     "execution_count": 9,
     "metadata": {},
     "output_type": "execute_result"
    }
   ],
   "source": [
    "# Check for any null values in DataFrame\n",
    "byarea_df.isnull().sum()"
   ]
  },
  {
   "cell_type": "code",
   "execution_count": 10,
   "id": "1a334e00",
   "metadata": {},
   "outputs": [
    {
     "name": "stdout",
     "output_type": "stream",
     "text": [
      "['Alabama' 'Alaska' 'Arizona' 'Arkansas' 'California' 'Colorado'\n",
      " 'Connecticut' 'Delaware' 'District of Columbia' 'Florida' 'Georgia'\n",
      " 'Hawaii' 'Idaho' 'Illinois' 'Indiana' 'Iowa' 'Kansas' 'Kentucky'\n",
      " 'Louisiana' 'Maine' 'Maryland' 'Massachusetts' 'Michigan' 'Minnesota'\n",
      " 'Mississippi' 'Missouri' 'Montana' 'Nebraska' 'Nevada' 'New Hampshire'\n",
      " 'New Jersey' 'New Mexico' 'New York' 'North Carolina' 'North Dakota'\n",
      " 'Ohio' 'Oklahoma' 'Oregon' 'Pennsylvania' 'Rhode Island' 'South Carolina'\n",
      " 'South Dakota' 'Tennessee' 'Texas' 'United States (comparable to ICDO2)'\n",
      " 'Utah' 'Vermont' 'Virginia' 'Washington' 'West Virginia' 'Wisconsin'\n",
      " 'Wyoming']\n",
      "['Incidence' 'Mortality']\n",
      "['All Races' 'American Indian/Alaska Native' 'Asian/Pacific Islander'\n",
      " 'Black' 'Hispanic' 'White']\n",
      "['Female' 'Male' 'Male and Female']\n",
      "['All Cancer Sites Combined' 'Brain and Other Nervous System' 'Cervix'\n",
      " 'Colon and Rectum' 'Corpus and Uterus, NOS' 'Esophagus' 'Female Breast'\n",
      " 'Female Breast, <i>in situ</i>' 'Hodgkin Lymphoma' 'Kaposi Sarcoma'\n",
      " 'Kidney and Renal Pelvis' 'Larynx' 'Leukemias'\n",
      " 'Liver and Intrahepatic Bile Duct' 'Lung and Bronchus'\n",
      " 'Melanomas of the Skin' 'Mesothelioma' 'Myeloma' 'NonHodgkin Lymphoma'\n",
      " 'Oral Cavity and Pharynx' 'Ovary' 'Pancreas' 'Stomach' 'Thyroid'\n",
      " 'Urinary Bladder' 'Prostate' 'Testis']\n"
     ]
    }
   ],
   "source": [
    "# Check unique values of categories in DataFrame\n",
    "print(byarea_df['AREA'].unique())\n",
    "print(byarea_df['EVENT_TYPE'].unique())\n",
    "print(byarea_df['RACE'].unique())\n",
    "print(byarea_df['SEX'].unique())\n",
    "print(byarea_df['SITE'].unique())"
   ]
  },
  {
   "cell_type": "code",
   "execution_count": 11,
   "id": "e310e6f3",
   "metadata": {},
   "outputs": [
    {
     "data": {
      "text/plain": [
       "AREA          52\n",
       "EVENT_TYPE     2\n",
       "RACE           6\n",
       "SEX            3\n",
       "SITE          27\n",
       "dtype: int64"
      ]
     },
     "execution_count": 11,
     "metadata": {},
     "output_type": "execute_result"
    }
   ],
   "source": [
    "# Generate our categorical variable list\n",
    "byarea_df_cat = byarea_df.dtypes[byarea_df.dtypes == \"object\"].index.tolist()\n",
    "\n",
    "\n",
    "# Check the number of unique values in each column\n",
    "byarea_df[byarea_df_cat].nunique()"
   ]
  },
  {
   "cell_type": "code",
   "execution_count": 12,
   "id": "28d36f12",
   "metadata": {},
   "outputs": [
    {
     "data": {
      "text/plain": [
       "(959076, 13)"
      ]
     },
     "execution_count": 12,
     "metadata": {},
     "output_type": "execute_result"
    }
   ],
   "source": [
    "# Drop column COUNT due to 56% null values\n",
    "byarea_df.drop(columns = ['COUNT'], inplace = True)\n",
    "byarea_df.shape"
   ]
  },
  {
   "cell_type": "code",
   "execution_count": 13,
   "id": "e89cb3ac",
   "metadata": {},
   "outputs": [],
   "source": [
    "# Drop the null rows as only 1% of total data\n",
    "byarea_df = byarea_df.dropna()"
   ]
  },
  {
   "cell_type": "code",
   "execution_count": 14,
   "id": "b208ae98",
   "metadata": {},
   "outputs": [
    {
     "data": {
      "text/plain": [
       "(949308, 13)"
      ]
     },
     "execution_count": 14,
     "metadata": {},
     "output_type": "execute_result"
    }
   ],
   "source": [
    "# Recheck shape of the DataFrame\n",
    "byarea_df.shape"
   ]
  },
  {
   "cell_type": "code",
   "execution_count": 15,
   "id": "397320c4",
   "metadata": {},
   "outputs": [],
   "source": [
    "# Saving cleaned DataFrame to csv\n",
    "byarea_df.to_csv('cleaned_byarea_df.csv', index = False)"
   ]
  },
  {
   "cell_type": "code",
   "execution_count": null,
   "id": "daf07ca9",
   "metadata": {},
   "outputs": [],
   "source": []
  }
 ],
 "metadata": {
  "kernelspec": {
   "display_name": "mlenv",
   "language": "python",
   "name": "mlenv"
  },
  "language_info": {
   "codemirror_mode": {
    "name": "ipython",
    "version": 3
   },
   "file_extension": ".py",
   "mimetype": "text/x-python",
   "name": "python",
   "nbconvert_exporter": "python",
   "pygments_lexer": "ipython3",
   "version": "3.7.13"
  }
 },
 "nbformat": 4,
 "nbformat_minor": 5
}
