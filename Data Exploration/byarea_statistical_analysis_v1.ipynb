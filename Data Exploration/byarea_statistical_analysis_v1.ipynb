{
 "cells": [
  {
   "cell_type": "code",
   "execution_count": 1,
   "id": "13f7abf1",
   "metadata": {},
   "outputs": [],
   "source": [
    "# Import dependencies\n",
    "import pandas as pd\n",
    "import scipy.stats as stats\n",
    "import statsmodels.api as sm\n",
    "from statsmodels.formula.api import ols"
   ]
  },
  {
   "cell_type": "code",
   "execution_count": 2,
   "id": "f6d2a0ee",
   "metadata": {},
   "outputs": [
    {
     "data": {
      "text/html": [
       "<div>\n",
       "<style scoped>\n",
       "    .dataframe tbody tr th:only-of-type {\n",
       "        vertical-align: middle;\n",
       "    }\n",
       "\n",
       "    .dataframe tbody tr th {\n",
       "        vertical-align: top;\n",
       "    }\n",
       "\n",
       "    .dataframe thead th {\n",
       "        text-align: right;\n",
       "    }\n",
       "</style>\n",
       "<table border=\"1\" class=\"dataframe\">\n",
       "  <thead>\n",
       "    <tr style=\"text-align: right;\">\n",
       "      <th></th>\n",
       "      <th>AREA</th>\n",
       "      <th>EVENT_TYPE</th>\n",
       "      <th>RACE</th>\n",
       "      <th>SEX</th>\n",
       "      <th>SITE</th>\n",
       "      <th>YEAR</th>\n",
       "      <th>AGE_ADJUSTED_RATE</th>\n",
       "    </tr>\n",
       "  </thead>\n",
       "  <tbody>\n",
       "    <tr>\n",
       "      <th>0</th>\n",
       "      <td>Alabama</td>\n",
       "      <td>Incidence</td>\n",
       "      <td>American Indian/Alaska Native</td>\n",
       "      <td>Female</td>\n",
       "      <td>Brain and Other Nervous System</td>\n",
       "      <td>1999</td>\n",
       "      <td>0.0</td>\n",
       "    </tr>\n",
       "    <tr>\n",
       "      <th>1</th>\n",
       "      <td>Alabama</td>\n",
       "      <td>Mortality</td>\n",
       "      <td>American Indian/Alaska Native</td>\n",
       "      <td>Female</td>\n",
       "      <td>Brain and Other Nervous System</td>\n",
       "      <td>1999</td>\n",
       "      <td>0.0</td>\n",
       "    </tr>\n",
       "    <tr>\n",
       "      <th>2</th>\n",
       "      <td>Alabama</td>\n",
       "      <td>Incidence</td>\n",
       "      <td>American Indian/Alaska Native</td>\n",
       "      <td>Female</td>\n",
       "      <td>Brain and Other Nervous System</td>\n",
       "      <td>2000</td>\n",
       "      <td>0.0</td>\n",
       "    </tr>\n",
       "    <tr>\n",
       "      <th>3</th>\n",
       "      <td>Alabama</td>\n",
       "      <td>Mortality</td>\n",
       "      <td>American Indian/Alaska Native</td>\n",
       "      <td>Female</td>\n",
       "      <td>Brain and Other Nervous System</td>\n",
       "      <td>2000</td>\n",
       "      <td>0.0</td>\n",
       "    </tr>\n",
       "    <tr>\n",
       "      <th>4</th>\n",
       "      <td>Alabama</td>\n",
       "      <td>Incidence</td>\n",
       "      <td>American Indian/Alaska Native</td>\n",
       "      <td>Female</td>\n",
       "      <td>Brain and Other Nervous System</td>\n",
       "      <td>2001</td>\n",
       "      <td>0.0</td>\n",
       "    </tr>\n",
       "  </tbody>\n",
       "</table>\n",
       "</div>"
      ],
      "text/plain": [
       "      AREA EVENT_TYPE                           RACE     SEX  \\\n",
       "0  Alabama  Incidence  American Indian/Alaska Native  Female   \n",
       "1  Alabama  Mortality  American Indian/Alaska Native  Female   \n",
       "2  Alabama  Incidence  American Indian/Alaska Native  Female   \n",
       "3  Alabama  Mortality  American Indian/Alaska Native  Female   \n",
       "4  Alabama  Incidence  American Indian/Alaska Native  Female   \n",
       "\n",
       "                             SITE  YEAR  AGE_ADJUSTED_RATE  \n",
       "0  Brain and Other Nervous System  1999                0.0  \n",
       "1  Brain and Other Nervous System  1999                0.0  \n",
       "2  Brain and Other Nervous System  2000                0.0  \n",
       "3  Brain and Other Nervous System  2000                0.0  \n",
       "4  Brain and Other Nervous System  2001                0.0  "
      ]
     },
     "execution_count": 2,
     "metadata": {},
     "output_type": "execute_result"
    }
   ],
   "source": [
    "# Load the data and create a DataFrame for the data\n",
    "short_filtered_cleaned_byarea_df = pd.read_csv('short_filtered_cleaned_byarea.csv')\n",
    "short_filtered_cleaned_byarea_df.head()"
   ]
  },
  {
   "cell_type": "code",
   "execution_count": 3,
   "id": "3f01c448",
   "metadata": {},
   "outputs": [
    {
     "data": {
      "text/plain": [
       "(653591, 7)"
      ]
     },
     "execution_count": 3,
     "metadata": {},
     "output_type": "execute_result"
    }
   ],
   "source": [
    "# Check shape of DataFrame\n",
    "short_filtered_cleaned_byarea_df.shape"
   ]
  },
  {
   "cell_type": "code",
   "execution_count": 4,
   "id": "c1831584",
   "metadata": {},
   "outputs": [
    {
     "name": "stdout",
     "output_type": "stream",
     "text": [
      "<class 'pandas.core.frame.DataFrame'>\n",
      "RangeIndex: 653591 entries, 0 to 653590\n",
      "Data columns (total 7 columns):\n",
      " #   Column             Non-Null Count   Dtype  \n",
      "---  ------             --------------   -----  \n",
      " 0   AREA               653591 non-null  object \n",
      " 1   EVENT_TYPE         653591 non-null  object \n",
      " 2   RACE               653591 non-null  object \n",
      " 3   SEX                653591 non-null  object \n",
      " 4   SITE               653591 non-null  object \n",
      " 5   YEAR               653591 non-null  int64  \n",
      " 6   AGE_ADJUSTED_RATE  653591 non-null  float64\n",
      "dtypes: float64(1), int64(1), object(5)\n",
      "memory usage: 34.9+ MB\n"
     ]
    }
   ],
   "source": [
    "# Check for info DataFrame\n",
    "short_filtered_cleaned_byarea_df.info()"
   ]
  },
  {
   "cell_type": "code",
   "execution_count": 5,
   "id": "a0486790",
   "metadata": {},
   "outputs": [],
   "source": [
    "# Convert YEAR to category\n",
    "short_filtered_cleaned_byarea_df['YEAR'] = short_filtered_cleaned_byarea_df['YEAR'].astype('object')"
   ]
  },
  {
   "cell_type": "code",
   "execution_count": 6,
   "id": "6e79da66",
   "metadata": {},
   "outputs": [
    {
     "data": {
      "text/plain": [
       "AREA                  object\n",
       "EVENT_TYPE            object\n",
       "RACE                  object\n",
       "SEX                   object\n",
       "SITE                  object\n",
       "YEAR                  object\n",
       "AGE_ADJUSTED_RATE    float64\n",
       "dtype: object"
      ]
     },
     "execution_count": 6,
     "metadata": {},
     "output_type": "execute_result"
    }
   ],
   "source": [
    "# Check Datatypes of DataFrame\n",
    "short_filtered_cleaned_byarea_df.dtypes"
   ]
  },
  {
   "cell_type": "code",
   "execution_count": 7,
   "id": "e310e6f3",
   "metadata": {},
   "outputs": [
    {
     "data": {
      "text/plain": [
       "AREA          51\n",
       "EVENT_TYPE     2\n",
       "RACE           5\n",
       "SEX            3\n",
       "SITE          26\n",
       "YEAR          21\n",
       "dtype: int64"
      ]
     },
     "execution_count": 7,
     "metadata": {},
     "output_type": "execute_result"
    }
   ],
   "source": [
    "# Generate our categorical variable list\n",
    "short_filtered_cleaned_byarea_df_cat = short_filtered_cleaned_byarea_df.dtypes[\n",
    "    short_filtered_cleaned_byarea_df.dtypes == \"object\"].index.tolist()\n",
    "\n",
    "\n",
    "# Check the number of unique values in each column\n",
    "short_filtered_cleaned_byarea_df[short_filtered_cleaned_byarea_df_cat].nunique()"
   ]
  },
  {
   "cell_type": "code",
   "execution_count": 8,
   "id": "daf07ca9",
   "metadata": {},
   "outputs": [
    {
     "name": "stdout",
     "output_type": "stream",
     "text": [
      "['Alabama' 'Alaska' 'Arizona' 'Arkansas' 'California' 'Colorado'\n",
      " 'Connecticut' 'Delaware' 'District of Columbia' 'Florida' 'Georgia'\n",
      " 'Hawaii' 'Idaho' 'Illinois' 'Indiana' 'Iowa' 'Kansas' 'Kentucky'\n",
      " 'Louisiana' 'Maine' 'Maryland' 'Massachusetts' 'Michigan' 'Minnesota'\n",
      " 'Mississippi' 'Missouri' 'Montana' 'Nebraska' 'Nevada' 'New Hampshire'\n",
      " 'New Jersey' 'New Mexico' 'New York' 'North Carolina' 'North Dakota'\n",
      " 'Ohio' 'Oklahoma' 'Oregon' 'Pennsylvania' 'Rhode Island' 'South Carolina'\n",
      " 'South Dakota' 'Tennessee' 'Texas' 'Utah' 'Vermont' 'Virginia'\n",
      " 'Washington' 'West Virginia' 'Wisconsin' 'Wyoming']\n",
      "['Incidence' 'Mortality']\n",
      "['American Indian/Alaska Native' 'Asian/Pacific Islander' 'Black'\n",
      " 'Hispanic' 'White']\n",
      "['Female' 'Male' 'Male and Female']\n",
      "['Brain and Other Nervous System' 'Cervix' 'Colon and Rectum'\n",
      " 'Corpus and Uterus, NOS' 'Esophagus' 'Female Breast'\n",
      " 'Female Breast, <i>in situ</i>' 'Hodgkin Lymphoma' 'Kaposi Sarcoma'\n",
      " 'Kidney and Renal Pelvis' 'Larynx' 'Leukemias'\n",
      " 'Liver and Intrahepatic Bile Duct' 'Lung and Bronchus'\n",
      " 'Melanomas of the Skin' 'Mesothelioma' 'Myeloma' 'NonHodgkin Lymphoma'\n",
      " 'Oral Cavity and Pharynx' 'Ovary' 'Pancreas' 'Stomach' 'Thyroid'\n",
      " 'Urinary Bladder' 'Prostate' 'Testis']\n",
      "[1999 2000 2001 2002 2003 2004 2005 2006 2007 2008 2009 2010 2011 2012\n",
      " 2013 2014 2015 2016 2017 2018 2019]\n"
     ]
    }
   ],
   "source": [
    "# Check unique values of categories in DataFrame\n",
    "print(short_filtered_cleaned_byarea_df['AREA'].unique())\n",
    "print(short_filtered_cleaned_byarea_df['EVENT_TYPE'].unique())\n",
    "print(short_filtered_cleaned_byarea_df['RACE'].unique())\n",
    "print(short_filtered_cleaned_byarea_df['SEX'].unique())\n",
    "print(short_filtered_cleaned_byarea_df['SITE'].unique())\n",
    "print(short_filtered_cleaned_byarea_df['YEAR'].unique())"
   ]
  },
  {
   "cell_type": "code",
   "execution_count": 9,
   "id": "61654a29",
   "metadata": {},
   "outputs": [
    {
     "data": {
      "text/html": [
       "<div>\n",
       "<style scoped>\n",
       "    .dataframe tbody tr th:only-of-type {\n",
       "        vertical-align: middle;\n",
       "    }\n",
       "\n",
       "    .dataframe tbody tr th {\n",
       "        vertical-align: top;\n",
       "    }\n",
       "\n",
       "    .dataframe thead th {\n",
       "        text-align: right;\n",
       "    }\n",
       "</style>\n",
       "<table border=\"1\" class=\"dataframe\">\n",
       "  <thead>\n",
       "    <tr style=\"text-align: right;\">\n",
       "      <th></th>\n",
       "      <th>df</th>\n",
       "      <th>sum_sq</th>\n",
       "      <th>mean_sq</th>\n",
       "      <th>F</th>\n",
       "      <th>PR(&gt;F)</th>\n",
       "    </tr>\n",
       "  </thead>\n",
       "  <tbody>\n",
       "    <tr>\n",
       "      <th>AREA</th>\n",
       "      <td>50.0</td>\n",
       "      <td>6.592430e+05</td>\n",
       "      <td>1.318486e+04</td>\n",
       "      <td>481.926115</td>\n",
       "      <td>0.000000e+00</td>\n",
       "    </tr>\n",
       "    <tr>\n",
       "      <th>EVENT_TYPE</th>\n",
       "      <td>1.0</td>\n",
       "      <td>1.892231e+06</td>\n",
       "      <td>1.892231e+06</td>\n",
       "      <td>69163.836219</td>\n",
       "      <td>0.000000e+00</td>\n",
       "    </tr>\n",
       "    <tr>\n",
       "      <th>RACE</th>\n",
       "      <td>4.0</td>\n",
       "      <td>1.011297e+06</td>\n",
       "      <td>2.528244e+05</td>\n",
       "      <td>9241.104794</td>\n",
       "      <td>0.000000e+00</td>\n",
       "    </tr>\n",
       "    <tr>\n",
       "      <th>SEX</th>\n",
       "      <td>2.0</td>\n",
       "      <td>1.394076e+05</td>\n",
       "      <td>6.970381e+04</td>\n",
       "      <td>2547.777328</td>\n",
       "      <td>0.000000e+00</td>\n",
       "    </tr>\n",
       "    <tr>\n",
       "      <th>SITE</th>\n",
       "      <td>25.0</td>\n",
       "      <td>1.002275e+07</td>\n",
       "      <td>4.009101e+05</td>\n",
       "      <td>14653.855704</td>\n",
       "      <td>0.000000e+00</td>\n",
       "    </tr>\n",
       "    <tr>\n",
       "      <th>YEAR</th>\n",
       "      <td>20.0</td>\n",
       "      <td>1.930339e+04</td>\n",
       "      <td>9.651697e+02</td>\n",
       "      <td>35.278382</td>\n",
       "      <td>1.759682e-136</td>\n",
       "    </tr>\n",
       "    <tr>\n",
       "      <th>Residual</th>\n",
       "      <td>653488.0</td>\n",
       "      <td>1.787856e+07</td>\n",
       "      <td>2.735867e+01</td>\n",
       "      <td>NaN</td>\n",
       "      <td>NaN</td>\n",
       "    </tr>\n",
       "  </tbody>\n",
       "</table>\n",
       "</div>"
      ],
      "text/plain": [
       "                  df        sum_sq       mean_sq             F         PR(>F)\n",
       "AREA            50.0  6.592430e+05  1.318486e+04    481.926115   0.000000e+00\n",
       "EVENT_TYPE       1.0  1.892231e+06  1.892231e+06  69163.836219   0.000000e+00\n",
       "RACE             4.0  1.011297e+06  2.528244e+05   9241.104794   0.000000e+00\n",
       "SEX              2.0  1.394076e+05  6.970381e+04   2547.777328   0.000000e+00\n",
       "SITE            25.0  1.002275e+07  4.009101e+05  14653.855704   0.000000e+00\n",
       "YEAR            20.0  1.930339e+04  9.651697e+02     35.278382  1.759682e-136\n",
       "Residual    653488.0  1.787856e+07  2.735867e+01           NaN            NaN"
      ]
     },
     "execution_count": 9,
     "metadata": {},
     "output_type": "execute_result"
    }
   ],
   "source": [
    "# ANOVA Variables vs AGE_ADJUSTED_RATE\n",
    "model = ols('AGE_ADJUSTED_RATE ~ AREA + EVENT_TYPE + RACE + SEX + SITE + YEAR', data = short_filtered_cleaned_byarea_df).fit()\n",
    "anova_table = sm.stats.anova_lm(model)\n",
    "anova_table"
   ]
  },
  {
   "cell_type": "code",
   "execution_count": 12,
   "id": "d33455c8",
   "metadata": {},
   "outputs": [
    {
     "data": {
      "text/html": [
       "<div>\n",
       "<style scoped>\n",
       "    .dataframe tbody tr th:only-of-type {\n",
       "        vertical-align: middle;\n",
       "    }\n",
       "\n",
       "    .dataframe tbody tr th {\n",
       "        vertical-align: top;\n",
       "    }\n",
       "\n",
       "    .dataframe thead th {\n",
       "        text-align: right;\n",
       "    }\n",
       "</style>\n",
       "<table border=\"1\" class=\"dataframe\">\n",
       "  <thead>\n",
       "    <tr style=\"text-align: right;\">\n",
       "      <th></th>\n",
       "      <th>df</th>\n",
       "      <th>sum_sq</th>\n",
       "      <th>mean_sq</th>\n",
       "      <th>F</th>\n",
       "      <th>PR(&gt;F)</th>\n",
       "    </tr>\n",
       "  </thead>\n",
       "  <tbody>\n",
       "    <tr>\n",
       "      <th>AREA:EVENT_TYPE</th>\n",
       "      <td>101.0</td>\n",
       "      <td>2.621552e+06</td>\n",
       "      <td>25955.965234</td>\n",
       "      <td>631.048868</td>\n",
       "      <td>0.0</td>\n",
       "    </tr>\n",
       "    <tr>\n",
       "      <th>AREA:RACE</th>\n",
       "      <td>204.0</td>\n",
       "      <td>1.973529e+06</td>\n",
       "      <td>9674.162616</td>\n",
       "      <td>235.201015</td>\n",
       "      <td>0.0</td>\n",
       "    </tr>\n",
       "    <tr>\n",
       "      <th>AREA:SEX</th>\n",
       "      <td>102.0</td>\n",
       "      <td>1.613420e+05</td>\n",
       "      <td>1581.784570</td>\n",
       "      <td>38.456800</td>\n",
       "      <td>0.0</td>\n",
       "    </tr>\n",
       "    <tr>\n",
       "      <th>Residual</th>\n",
       "      <td>653183.0</td>\n",
       "      <td>2.686637e+07</td>\n",
       "      <td>41.131466</td>\n",
       "      <td>NaN</td>\n",
       "      <td>NaN</td>\n",
       "    </tr>\n",
       "  </tbody>\n",
       "</table>\n",
       "</div>"
      ],
      "text/plain": [
       "                       df        sum_sq       mean_sq           F  PR(>F)\n",
       "AREA:EVENT_TYPE     101.0  2.621552e+06  25955.965234  631.048868     0.0\n",
       "AREA:RACE           204.0  1.973529e+06   9674.162616  235.201015     0.0\n",
       "AREA:SEX            102.0  1.613420e+05   1581.784570   38.456800     0.0\n",
       "Residual         653183.0  2.686637e+07     41.131466         NaN     NaN"
      ]
     },
     "execution_count": 12,
     "metadata": {},
     "output_type": "execute_result"
    }
   ],
   "source": [
    "# ANOVA Features Interactions vs AGE_ADJUSTED_RATE\n",
    "model = ols('AGE_ADJUSTED_RATE ~ AREA:EVENT_TYPE + AREA:RACE + AREA:SEX', data = short_filtered_cleaned_byarea_df).fit()\n",
    "anova_table = sm.stats.anova_lm(model)\n",
    "anova_table"
   ]
  },
  {
   "cell_type": "code",
   "execution_count": 13,
   "id": "c605555d",
   "metadata": {},
   "outputs": [
    {
     "data": {
      "text/html": [
       "<div>\n",
       "<style scoped>\n",
       "    .dataframe tbody tr th:only-of-type {\n",
       "        vertical-align: middle;\n",
       "    }\n",
       "\n",
       "    .dataframe tbody tr th {\n",
       "        vertical-align: top;\n",
       "    }\n",
       "\n",
       "    .dataframe thead th {\n",
       "        text-align: right;\n",
       "    }\n",
       "</style>\n",
       "<table border=\"1\" class=\"dataframe\">\n",
       "  <thead>\n",
       "    <tr style=\"text-align: right;\">\n",
       "      <th></th>\n",
       "      <th>df</th>\n",
       "      <th>sum_sq</th>\n",
       "      <th>mean_sq</th>\n",
       "      <th>F</th>\n",
       "      <th>PR(&gt;F)</th>\n",
       "    </tr>\n",
       "  </thead>\n",
       "  <tbody>\n",
       "    <tr>\n",
       "      <th>EVENT_TYPE:RACE</th>\n",
       "      <td>9.0</td>\n",
       "      <td>2.983125e+06</td>\n",
       "      <td>331458.298217</td>\n",
       "      <td>12804.329023</td>\n",
       "      <td>0.0</td>\n",
       "    </tr>\n",
       "    <tr>\n",
       "      <th>EVENT_TYPE:SEX</th>\n",
       "      <td>4.0</td>\n",
       "      <td>1.464125e+05</td>\n",
       "      <td>36603.114904</td>\n",
       "      <td>1413.988816</td>\n",
       "      <td>0.0</td>\n",
       "    </tr>\n",
       "    <tr>\n",
       "      <th>EVENT_TYPE:SITE</th>\n",
       "      <td>50.0</td>\n",
       "      <td>1.151934e+07</td>\n",
       "      <td>230386.882560</td>\n",
       "      <td>8899.911279</td>\n",
       "      <td>0.0</td>\n",
       "    </tr>\n",
       "    <tr>\n",
       "      <th>EVENT_TYPE:YEAR</th>\n",
       "      <td>40.0</td>\n",
       "      <td>5.754671e+04</td>\n",
       "      <td>1438.667828</td>\n",
       "      <td>55.576150</td>\n",
       "      <td>0.0</td>\n",
       "    </tr>\n",
       "    <tr>\n",
       "      <th>Residual</th>\n",
       "      <td>653489.0</td>\n",
       "      <td>1.691649e+07</td>\n",
       "      <td>25.886425</td>\n",
       "      <td>NaN</td>\n",
       "      <td>NaN</td>\n",
       "    </tr>\n",
       "  </tbody>\n",
       "</table>\n",
       "</div>"
      ],
      "text/plain": [
       "                       df        sum_sq        mean_sq             F  PR(>F)\n",
       "EVENT_TYPE:RACE       9.0  2.983125e+06  331458.298217  12804.329023     0.0\n",
       "EVENT_TYPE:SEX        4.0  1.464125e+05   36603.114904   1413.988816     0.0\n",
       "EVENT_TYPE:SITE      50.0  1.151934e+07  230386.882560   8899.911279     0.0\n",
       "EVENT_TYPE:YEAR      40.0  5.754671e+04    1438.667828     55.576150     0.0\n",
       "Residual         653489.0  1.691649e+07      25.886425           NaN     NaN"
      ]
     },
     "execution_count": 13,
     "metadata": {},
     "output_type": "execute_result"
    }
   ],
   "source": [
    "# ANOVA Features Interactions vs AGE_ADJUSTED_RATE\n",
    "model = ols('AGE_ADJUSTED_RATE ~ EVENT_TYPE:RACE + EVENT_TYPE:SEX + EVENT_TYPE:SITE + EVENT_TYPE:YEAR', data = short_filtered_cleaned_byarea_df).fit()\n",
    "anova_table = sm.stats.anova_lm(model)\n",
    "anova_table"
   ]
  },
  {
   "cell_type": "code",
   "execution_count": 14,
   "id": "a8b865b4",
   "metadata": {},
   "outputs": [
    {
     "data": {
      "text/html": [
       "<div>\n",
       "<style scoped>\n",
       "    .dataframe tbody tr th:only-of-type {\n",
       "        vertical-align: middle;\n",
       "    }\n",
       "\n",
       "    .dataframe tbody tr th {\n",
       "        vertical-align: top;\n",
       "    }\n",
       "\n",
       "    .dataframe thead th {\n",
       "        text-align: right;\n",
       "    }\n",
       "</style>\n",
       "<table border=\"1\" class=\"dataframe\">\n",
       "  <thead>\n",
       "    <tr style=\"text-align: right;\">\n",
       "      <th></th>\n",
       "      <th>df</th>\n",
       "      <th>sum_sq</th>\n",
       "      <th>mean_sq</th>\n",
       "      <th>F</th>\n",
       "      <th>PR(&gt;F)</th>\n",
       "    </tr>\n",
       "  </thead>\n",
       "  <tbody>\n",
       "    <tr>\n",
       "      <th>RACE:SEX</th>\n",
       "      <td>14.0</td>\n",
       "      <td>1.203170e+06</td>\n",
       "      <td>85940.688184</td>\n",
       "      <td>2847.748204</td>\n",
       "      <td>0.000000e+00</td>\n",
       "    </tr>\n",
       "    <tr>\n",
       "      <th>RACE:SITE</th>\n",
       "      <td>125.0</td>\n",
       "      <td>1.066668e+07</td>\n",
       "      <td>85333.408564</td>\n",
       "      <td>2827.625263</td>\n",
       "      <td>0.000000e+00</td>\n",
       "    </tr>\n",
       "    <tr>\n",
       "      <th>RACE:YEAR</th>\n",
       "      <td>100.0</td>\n",
       "      <td>3.581795e+04</td>\n",
       "      <td>358.179485</td>\n",
       "      <td>11.868709</td>\n",
       "      <td>4.165162e-185</td>\n",
       "    </tr>\n",
       "    <tr>\n",
       "      <th>Residual</th>\n",
       "      <td>653351.0</td>\n",
       "      <td>1.971713e+07</td>\n",
       "      <td>30.178472</td>\n",
       "      <td>NaN</td>\n",
       "      <td>NaN</td>\n",
       "    </tr>\n",
       "  </tbody>\n",
       "</table>\n",
       "</div>"
      ],
      "text/plain": [
       "                 df        sum_sq       mean_sq            F         PR(>F)\n",
       "RACE:SEX       14.0  1.203170e+06  85940.688184  2847.748204   0.000000e+00\n",
       "RACE:SITE     125.0  1.066668e+07  85333.408564  2827.625263   0.000000e+00\n",
       "RACE:YEAR     100.0  3.581795e+04    358.179485    11.868709  4.165162e-185\n",
       "Residual   653351.0  1.971713e+07     30.178472          NaN            NaN"
      ]
     },
     "execution_count": 14,
     "metadata": {},
     "output_type": "execute_result"
    }
   ],
   "source": [
    "# ANOVA Features Interactions vs AGE_ADJUSTED_RATE\n",
    "model = ols('AGE_ADJUSTED_RATE ~ RACE:SEX + RACE:SITE + RACE:YEAR', data = short_filtered_cleaned_byarea_df).fit()\n",
    "anova_table = sm.stats.anova_lm(model)\n",
    "anova_table"
   ]
  },
  {
   "cell_type": "code",
   "execution_count": 16,
   "id": "93f2752c",
   "metadata": {},
   "outputs": [
    {
     "data": {
      "text/html": [
       "<div>\n",
       "<style scoped>\n",
       "    .dataframe tbody tr th:only-of-type {\n",
       "        vertical-align: middle;\n",
       "    }\n",
       "\n",
       "    .dataframe tbody tr th {\n",
       "        vertical-align: top;\n",
       "    }\n",
       "\n",
       "    .dataframe thead th {\n",
       "        text-align: right;\n",
       "    }\n",
       "</style>\n",
       "<table border=\"1\" class=\"dataframe\">\n",
       "  <thead>\n",
       "    <tr style=\"text-align: right;\">\n",
       "      <th></th>\n",
       "      <th>df</th>\n",
       "      <th>sum_sq</th>\n",
       "      <th>mean_sq</th>\n",
       "      <th>F</th>\n",
       "      <th>PR(&gt;F)</th>\n",
       "    </tr>\n",
       "  </thead>\n",
       "  <tbody>\n",
       "    <tr>\n",
       "      <th>SEX:SITE</th>\n",
       "      <td>77.0</td>\n",
       "      <td>9.297732e+06</td>\n",
       "      <td>120749.762373</td>\n",
       "      <td>3537.743416</td>\n",
       "      <td>0.000000e+00</td>\n",
       "    </tr>\n",
       "    <tr>\n",
       "      <th>SEX:YEAR</th>\n",
       "      <td>60.0</td>\n",
       "      <td>2.133154e+04</td>\n",
       "      <td>355.525590</td>\n",
       "      <td>10.416238</td>\n",
       "      <td>6.133182e-95</td>\n",
       "    </tr>\n",
       "    <tr>\n",
       "      <th>Residual</th>\n",
       "      <td>653460.0</td>\n",
       "      <td>2.230381e+07</td>\n",
       "      <td>34.131860</td>\n",
       "      <td>NaN</td>\n",
       "      <td>NaN</td>\n",
       "    </tr>\n",
       "  </tbody>\n",
       "</table>\n",
       "</div>"
      ],
      "text/plain": [
       "                df        sum_sq        mean_sq            F        PR(>F)\n",
       "SEX:SITE      77.0  9.297732e+06  120749.762373  3537.743416  0.000000e+00\n",
       "SEX:YEAR      60.0  2.133154e+04     355.525590    10.416238  6.133182e-95\n",
       "Residual  653460.0  2.230381e+07      34.131860          NaN           NaN"
      ]
     },
     "execution_count": 16,
     "metadata": {},
     "output_type": "execute_result"
    }
   ],
   "source": [
    "# ANOVA Features Interactions vs AGE_ADJUSTED_RATE\n",
    "model = ols('AGE_ADJUSTED_RATE ~ SEX:SITE + SEX:YEAR', data = short_filtered_cleaned_byarea_df).fit()\n",
    "anova_table = sm.stats.anova_lm(model)\n",
    "anova_table"
   ]
  },
  {
   "cell_type": "code",
   "execution_count": 17,
   "id": "9021d59c",
   "metadata": {},
   "outputs": [
    {
     "data": {
      "text/html": [
       "<div>\n",
       "<style scoped>\n",
       "    .dataframe tbody tr th:only-of-type {\n",
       "        vertical-align: middle;\n",
       "    }\n",
       "\n",
       "    .dataframe tbody tr th {\n",
       "        vertical-align: top;\n",
       "    }\n",
       "\n",
       "    .dataframe thead th {\n",
       "        text-align: right;\n",
       "    }\n",
       "</style>\n",
       "<table border=\"1\" class=\"dataframe\">\n",
       "  <thead>\n",
       "    <tr style=\"text-align: right;\">\n",
       "      <th></th>\n",
       "      <th>df</th>\n",
       "      <th>sum_sq</th>\n",
       "      <th>mean_sq</th>\n",
       "      <th>F</th>\n",
       "      <th>PR(&gt;F)</th>\n",
       "    </tr>\n",
       "  </thead>\n",
       "  <tbody>\n",
       "    <tr>\n",
       "      <th>SITE:YEAR</th>\n",
       "      <td>545.0</td>\n",
       "      <td>8.619676e+06</td>\n",
       "      <td>15815.918536</td>\n",
       "      <td>449.004541</td>\n",
       "      <td>0.0</td>\n",
       "    </tr>\n",
       "    <tr>\n",
       "      <th>Residual</th>\n",
       "      <td>653045.0</td>\n",
       "      <td>2.300312e+07</td>\n",
       "      <td>35.224407</td>\n",
       "      <td>NaN</td>\n",
       "      <td>NaN</td>\n",
       "    </tr>\n",
       "  </tbody>\n",
       "</table>\n",
       "</div>"
      ],
      "text/plain": [
       "                 df        sum_sq       mean_sq           F  PR(>F)\n",
       "SITE:YEAR     545.0  8.619676e+06  15815.918536  449.004541     0.0\n",
       "Residual   653045.0  2.300312e+07     35.224407         NaN     NaN"
      ]
     },
     "execution_count": 17,
     "metadata": {},
     "output_type": "execute_result"
    }
   ],
   "source": [
    "# ANOVA Features Interactions vs AGE_ADJUSTED_RATE\n",
    "model = ols('AGE_ADJUSTED_RATE ~ SITE:YEAR', data = short_filtered_cleaned_byarea_df).fit()\n",
    "anova_table = sm.stats.anova_lm(model)\n",
    "anova_table"
   ]
  },
  {
   "cell_type": "code",
   "execution_count": 18,
   "id": "35e950f1",
   "metadata": {},
   "outputs": [
    {
     "ename": "MemoryError",
     "evalue": "Unable to allocate 6.46 GiB for an array with shape (1326, 653591) and data type float64",
     "output_type": "error",
     "traceback": [
      "\u001b[1;31m---------------------------------------------------------------------------\u001b[0m",
      "\u001b[1;31mMemoryError\u001b[0m                               Traceback (most recent call last)",
      "\u001b[1;32m~\\AppData\\Local\\Temp\\ipykernel_29308\\1416055256.py\u001b[0m in \u001b[0;36m<module>\u001b[1;34m\u001b[0m\n\u001b[0;32m      1\u001b[0m \u001b[1;31m# ANOVA Features Interactions vs AGE_ADJUSTED_RATE\u001b[0m\u001b[1;33m\u001b[0m\u001b[1;33m\u001b[0m\u001b[1;33m\u001b[0m\u001b[0m\n\u001b[1;32m----> 2\u001b[1;33m \u001b[0mmodel\u001b[0m \u001b[1;33m=\u001b[0m \u001b[0mols\u001b[0m\u001b[1;33m(\u001b[0m\u001b[1;34m'AGE_ADJUSTED_RATE ~ AREA:SITE'\u001b[0m\u001b[1;33m,\u001b[0m \u001b[0mdata\u001b[0m \u001b[1;33m=\u001b[0m \u001b[0mshort_filtered_cleaned_byarea_df\u001b[0m\u001b[1;33m)\u001b[0m\u001b[1;33m.\u001b[0m\u001b[0mfit\u001b[0m\u001b[1;33m(\u001b[0m\u001b[1;33m)\u001b[0m\u001b[1;33m\u001b[0m\u001b[1;33m\u001b[0m\u001b[0m\n\u001b[0m\u001b[0;32m      3\u001b[0m \u001b[0manova_table\u001b[0m \u001b[1;33m=\u001b[0m \u001b[0msm\u001b[0m\u001b[1;33m.\u001b[0m\u001b[0mstats\u001b[0m\u001b[1;33m.\u001b[0m\u001b[0manova_lm\u001b[0m\u001b[1;33m(\u001b[0m\u001b[0mmodel\u001b[0m\u001b[1;33m)\u001b[0m\u001b[1;33m\u001b[0m\u001b[1;33m\u001b[0m\u001b[0m\n\u001b[0;32m      4\u001b[0m \u001b[0manova_table\u001b[0m\u001b[1;33m\u001b[0m\u001b[1;33m\u001b[0m\u001b[0m\n",
      "\u001b[1;32m~\\Anaconda3\\envs\\mlenv\\lib\\site-packages\\statsmodels\\regression\\linear_model.py\u001b[0m in \u001b[0;36mfit\u001b[1;34m(self, method, cov_type, cov_kwds, use_t, **kwargs)\u001b[0m\n\u001b[0;32m    304\u001b[0m                     hasattr(self, 'rank')):\n\u001b[0;32m    305\u001b[0m \u001b[1;33m\u001b[0m\u001b[0m\n\u001b[1;32m--> 306\u001b[1;33m                 \u001b[0mself\u001b[0m\u001b[1;33m.\u001b[0m\u001b[0mpinv_wexog\u001b[0m\u001b[1;33m,\u001b[0m \u001b[0msingular_values\u001b[0m \u001b[1;33m=\u001b[0m \u001b[0mpinv_extended\u001b[0m\u001b[1;33m(\u001b[0m\u001b[0mself\u001b[0m\u001b[1;33m.\u001b[0m\u001b[0mwexog\u001b[0m\u001b[1;33m)\u001b[0m\u001b[1;33m\u001b[0m\u001b[1;33m\u001b[0m\u001b[0m\n\u001b[0m\u001b[0;32m    307\u001b[0m                 self.normalized_cov_params = np.dot(\n\u001b[0;32m    308\u001b[0m                     self.pinv_wexog, np.transpose(self.pinv_wexog))\n",
      "\u001b[1;32m~\\Anaconda3\\envs\\mlenv\\lib\\site-packages\\statsmodels\\tools\\tools.py\u001b[0m in \u001b[0;36mpinv_extended\u001b[1;34m(x, rcond)\u001b[0m\n\u001b[0;32m    348\u001b[0m             \u001b[0ms\u001b[0m\u001b[1;33m[\u001b[0m\u001b[0mi\u001b[0m\u001b[1;33m]\u001b[0m \u001b[1;33m=\u001b[0m \u001b[1;36m0.\u001b[0m\u001b[1;33m\u001b[0m\u001b[1;33m\u001b[0m\u001b[0m\n\u001b[0;32m    349\u001b[0m     res = np.dot(np.transpose(vt), np.multiply(s[:, np.core.newaxis],\n\u001b[1;32m--> 350\u001b[1;33m                                                np.transpose(u)))\n\u001b[0m\u001b[0;32m    351\u001b[0m     \u001b[1;32mreturn\u001b[0m \u001b[0mres\u001b[0m\u001b[1;33m,\u001b[0m \u001b[0ms_orig\u001b[0m\u001b[1;33m\u001b[0m\u001b[1;33m\u001b[0m\u001b[0m\n\u001b[0;32m    352\u001b[0m \u001b[1;33m\u001b[0m\u001b[0m\n",
      "\u001b[1;32m<__array_function__ internals>\u001b[0m in \u001b[0;36mdot\u001b[1;34m(*args, **kwargs)\u001b[0m\n",
      "\u001b[1;31mMemoryError\u001b[0m: Unable to allocate 6.46 GiB for an array with shape (1326, 653591) and data type float64"
     ]
    }
   ],
   "source": [
    "# ANOVA Features Interactions vs AGE_ADJUSTED_RATE\n",
    "model = ols('AGE_ADJUSTED_RATE ~ AREA:SITE', data = short_filtered_cleaned_byarea_df).fit()\n",
    "anova_table = sm.stats.anova_lm(model)\n",
    "anova_table"
   ]
  },
  {
   "cell_type": "code",
   "execution_count": null,
   "id": "4dfdfc1a",
   "metadata": {},
   "outputs": [],
   "source": []
  }
 ],
 "metadata": {
  "kernelspec": {
   "display_name": "mlenv",
   "language": "python",
   "name": "mlenv"
  },
  "language_info": {
   "codemirror_mode": {
    "name": "ipython",
    "version": 3
   },
   "file_extension": ".py",
   "mimetype": "text/x-python",
   "name": "python",
   "nbconvert_exporter": "python",
   "pygments_lexer": "ipython3",
   "version": "3.7.13"
  }
 },
 "nbformat": 4,
 "nbformat_minor": 5
}
